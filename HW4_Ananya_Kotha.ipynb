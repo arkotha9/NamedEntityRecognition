{
  "nbformat": 4,
  "nbformat_minor": 0,
  "metadata": {
    "colab": {
      "provenance": []
    },
    "kernelspec": {
      "name": "python3",
      "display_name": "Python 3"
    },
    "language_info": {
      "name": "python"
    },
    "widgets": {
      "application/vnd.jupyter.widget-state+json": {
        "ae4e83bf44b34e44a8e5eabff21ea391": {
          "model_module": "@jupyter-widgets/controls",
          "model_name": "HBoxModel",
          "model_module_version": "1.5.0",
          "state": {
            "_dom_classes": [],
            "_model_module": "@jupyter-widgets/controls",
            "_model_module_version": "1.5.0",
            "_model_name": "HBoxModel",
            "_view_count": null,
            "_view_module": "@jupyter-widgets/controls",
            "_view_module_version": "1.5.0",
            "_view_name": "HBoxView",
            "box_style": "",
            "children": [
              "IPY_MODEL_5bd4b08a1372416cb72651804cd334c5",
              "IPY_MODEL_00aab373637c41f2a9b1b0ec5ec815fb",
              "IPY_MODEL_423a50b77e0b4bb6834a9e6f8333e4c9"
            ],
            "layout": "IPY_MODEL_1291d1a9656b4aa29faf143b6f7b0ff1"
          }
        },
        "5bd4b08a1372416cb72651804cd334c5": {
          "model_module": "@jupyter-widgets/controls",
          "model_name": "HTMLModel",
          "model_module_version": "1.5.0",
          "state": {
            "_dom_classes": [],
            "_model_module": "@jupyter-widgets/controls",
            "_model_module_version": "1.5.0",
            "_model_name": "HTMLModel",
            "_view_count": null,
            "_view_module": "@jupyter-widgets/controls",
            "_view_module_version": "1.5.0",
            "_view_name": "HTMLView",
            "description": "",
            "description_tooltip": null,
            "layout": "IPY_MODEL_59f45765a27c4f8187dec3165f832007",
            "placeholder": "​",
            "style": "IPY_MODEL_51c87294c2554c35a077c3acc6d0b010",
            "value": "Downloading builder script: 100%"
          }
        },
        "00aab373637c41f2a9b1b0ec5ec815fb": {
          "model_module": "@jupyter-widgets/controls",
          "model_name": "FloatProgressModel",
          "model_module_version": "1.5.0",
          "state": {
            "_dom_classes": [],
            "_model_module": "@jupyter-widgets/controls",
            "_model_module_version": "1.5.0",
            "_model_name": "FloatProgressModel",
            "_view_count": null,
            "_view_module": "@jupyter-widgets/controls",
            "_view_module_version": "1.5.0",
            "_view_name": "ProgressView",
            "bar_style": "success",
            "description": "",
            "description_tooltip": null,
            "layout": "IPY_MODEL_095a9f6bcf8e42b6869112a9f37230d9",
            "max": 9570,
            "min": 0,
            "orientation": "horizontal",
            "style": "IPY_MODEL_a8bdf95245cb46b5938d226e1162439e",
            "value": 9570
          }
        },
        "423a50b77e0b4bb6834a9e6f8333e4c9": {
          "model_module": "@jupyter-widgets/controls",
          "model_name": "HTMLModel",
          "model_module_version": "1.5.0",
          "state": {
            "_dom_classes": [],
            "_model_module": "@jupyter-widgets/controls",
            "_model_module_version": "1.5.0",
            "_model_name": "HTMLModel",
            "_view_count": null,
            "_view_module": "@jupyter-widgets/controls",
            "_view_module_version": "1.5.0",
            "_view_name": "HTMLView",
            "description": "",
            "description_tooltip": null,
            "layout": "IPY_MODEL_692731709adb48419f1f30c64e87d72d",
            "placeholder": "​",
            "style": "IPY_MODEL_277a18e7e58e402ba927b13dccede7a8",
            "value": " 9.57k/9.57k [00:00&lt;00:00, 176kB/s]"
          }
        },
        "1291d1a9656b4aa29faf143b6f7b0ff1": {
          "model_module": "@jupyter-widgets/base",
          "model_name": "LayoutModel",
          "model_module_version": "1.2.0",
          "state": {
            "_model_module": "@jupyter-widgets/base",
            "_model_module_version": "1.2.0",
            "_model_name": "LayoutModel",
            "_view_count": null,
            "_view_module": "@jupyter-widgets/base",
            "_view_module_version": "1.2.0",
            "_view_name": "LayoutView",
            "align_content": null,
            "align_items": null,
            "align_self": null,
            "border": null,
            "bottom": null,
            "display": null,
            "flex": null,
            "flex_flow": null,
            "grid_area": null,
            "grid_auto_columns": null,
            "grid_auto_flow": null,
            "grid_auto_rows": null,
            "grid_column": null,
            "grid_gap": null,
            "grid_row": null,
            "grid_template_areas": null,
            "grid_template_columns": null,
            "grid_template_rows": null,
            "height": null,
            "justify_content": null,
            "justify_items": null,
            "left": null,
            "margin": null,
            "max_height": null,
            "max_width": null,
            "min_height": null,
            "min_width": null,
            "object_fit": null,
            "object_position": null,
            "order": null,
            "overflow": null,
            "overflow_x": null,
            "overflow_y": null,
            "padding": null,
            "right": null,
            "top": null,
            "visibility": null,
            "width": null
          }
        },
        "59f45765a27c4f8187dec3165f832007": {
          "model_module": "@jupyter-widgets/base",
          "model_name": "LayoutModel",
          "model_module_version": "1.2.0",
          "state": {
            "_model_module": "@jupyter-widgets/base",
            "_model_module_version": "1.2.0",
            "_model_name": "LayoutModel",
            "_view_count": null,
            "_view_module": "@jupyter-widgets/base",
            "_view_module_version": "1.2.0",
            "_view_name": "LayoutView",
            "align_content": null,
            "align_items": null,
            "align_self": null,
            "border": null,
            "bottom": null,
            "display": null,
            "flex": null,
            "flex_flow": null,
            "grid_area": null,
            "grid_auto_columns": null,
            "grid_auto_flow": null,
            "grid_auto_rows": null,
            "grid_column": null,
            "grid_gap": null,
            "grid_row": null,
            "grid_template_areas": null,
            "grid_template_columns": null,
            "grid_template_rows": null,
            "height": null,
            "justify_content": null,
            "justify_items": null,
            "left": null,
            "margin": null,
            "max_height": null,
            "max_width": null,
            "min_height": null,
            "min_width": null,
            "object_fit": null,
            "object_position": null,
            "order": null,
            "overflow": null,
            "overflow_x": null,
            "overflow_y": null,
            "padding": null,
            "right": null,
            "top": null,
            "visibility": null,
            "width": null
          }
        },
        "51c87294c2554c35a077c3acc6d0b010": {
          "model_module": "@jupyter-widgets/controls",
          "model_name": "DescriptionStyleModel",
          "model_module_version": "1.5.0",
          "state": {
            "_model_module": "@jupyter-widgets/controls",
            "_model_module_version": "1.5.0",
            "_model_name": "DescriptionStyleModel",
            "_view_count": null,
            "_view_module": "@jupyter-widgets/base",
            "_view_module_version": "1.2.0",
            "_view_name": "StyleView",
            "description_width": ""
          }
        },
        "095a9f6bcf8e42b6869112a9f37230d9": {
          "model_module": "@jupyter-widgets/base",
          "model_name": "LayoutModel",
          "model_module_version": "1.2.0",
          "state": {
            "_model_module": "@jupyter-widgets/base",
            "_model_module_version": "1.2.0",
            "_model_name": "LayoutModel",
            "_view_count": null,
            "_view_module": "@jupyter-widgets/base",
            "_view_module_version": "1.2.0",
            "_view_name": "LayoutView",
            "align_content": null,
            "align_items": null,
            "align_self": null,
            "border": null,
            "bottom": null,
            "display": null,
            "flex": null,
            "flex_flow": null,
            "grid_area": null,
            "grid_auto_columns": null,
            "grid_auto_flow": null,
            "grid_auto_rows": null,
            "grid_column": null,
            "grid_gap": null,
            "grid_row": null,
            "grid_template_areas": null,
            "grid_template_columns": null,
            "grid_template_rows": null,
            "height": null,
            "justify_content": null,
            "justify_items": null,
            "left": null,
            "margin": null,
            "max_height": null,
            "max_width": null,
            "min_height": null,
            "min_width": null,
            "object_fit": null,
            "object_position": null,
            "order": null,
            "overflow": null,
            "overflow_x": null,
            "overflow_y": null,
            "padding": null,
            "right": null,
            "top": null,
            "visibility": null,
            "width": null
          }
        },
        "a8bdf95245cb46b5938d226e1162439e": {
          "model_module": "@jupyter-widgets/controls",
          "model_name": "ProgressStyleModel",
          "model_module_version": "1.5.0",
          "state": {
            "_model_module": "@jupyter-widgets/controls",
            "_model_module_version": "1.5.0",
            "_model_name": "ProgressStyleModel",
            "_view_count": null,
            "_view_module": "@jupyter-widgets/base",
            "_view_module_version": "1.2.0",
            "_view_name": "StyleView",
            "bar_color": null,
            "description_width": ""
          }
        },
        "692731709adb48419f1f30c64e87d72d": {
          "model_module": "@jupyter-widgets/base",
          "model_name": "LayoutModel",
          "model_module_version": "1.2.0",
          "state": {
            "_model_module": "@jupyter-widgets/base",
            "_model_module_version": "1.2.0",
            "_model_name": "LayoutModel",
            "_view_count": null,
            "_view_module": "@jupyter-widgets/base",
            "_view_module_version": "1.2.0",
            "_view_name": "LayoutView",
            "align_content": null,
            "align_items": null,
            "align_self": null,
            "border": null,
            "bottom": null,
            "display": null,
            "flex": null,
            "flex_flow": null,
            "grid_area": null,
            "grid_auto_columns": null,
            "grid_auto_flow": null,
            "grid_auto_rows": null,
            "grid_column": null,
            "grid_gap": null,
            "grid_row": null,
            "grid_template_areas": null,
            "grid_template_columns": null,
            "grid_template_rows": null,
            "height": null,
            "justify_content": null,
            "justify_items": null,
            "left": null,
            "margin": null,
            "max_height": null,
            "max_width": null,
            "min_height": null,
            "min_width": null,
            "object_fit": null,
            "object_position": null,
            "order": null,
            "overflow": null,
            "overflow_x": null,
            "overflow_y": null,
            "padding": null,
            "right": null,
            "top": null,
            "visibility": null,
            "width": null
          }
        },
        "277a18e7e58e402ba927b13dccede7a8": {
          "model_module": "@jupyter-widgets/controls",
          "model_name": "DescriptionStyleModel",
          "model_module_version": "1.5.0",
          "state": {
            "_model_module": "@jupyter-widgets/controls",
            "_model_module_version": "1.5.0",
            "_model_name": "DescriptionStyleModel",
            "_view_count": null,
            "_view_module": "@jupyter-widgets/base",
            "_view_module_version": "1.2.0",
            "_view_name": "StyleView",
            "description_width": ""
          }
        },
        "eeedcf8fb57c463faca25f7858dde710": {
          "model_module": "@jupyter-widgets/controls",
          "model_name": "HBoxModel",
          "model_module_version": "1.5.0",
          "state": {
            "_dom_classes": [],
            "_model_module": "@jupyter-widgets/controls",
            "_model_module_version": "1.5.0",
            "_model_name": "HBoxModel",
            "_view_count": null,
            "_view_module": "@jupyter-widgets/controls",
            "_view_module_version": "1.5.0",
            "_view_name": "HBoxView",
            "box_style": "",
            "children": [
              "IPY_MODEL_252ca0323e7141caab6126a2dc271b05",
              "IPY_MODEL_9fa8cf5d22834545afe7e629b015168a",
              "IPY_MODEL_25fe862b45164b31918a548b9777248e"
            ],
            "layout": "IPY_MODEL_26fb148ca8cc4bab87fc5a20f8128007"
          }
        },
        "252ca0323e7141caab6126a2dc271b05": {
          "model_module": "@jupyter-widgets/controls",
          "model_name": "HTMLModel",
          "model_module_version": "1.5.0",
          "state": {
            "_dom_classes": [],
            "_model_module": "@jupyter-widgets/controls",
            "_model_module_version": "1.5.0",
            "_model_name": "HTMLModel",
            "_view_count": null,
            "_view_module": "@jupyter-widgets/controls",
            "_view_module_version": "1.5.0",
            "_view_name": "HTMLView",
            "description": "",
            "description_tooltip": null,
            "layout": "IPY_MODEL_9aee135f5b5f4c04846f90bbecd4f871",
            "placeholder": "​",
            "style": "IPY_MODEL_fabded751e5449bb9a380c70763441c8",
            "value": "Downloading metadata: 100%"
          }
        },
        "9fa8cf5d22834545afe7e629b015168a": {
          "model_module": "@jupyter-widgets/controls",
          "model_name": "FloatProgressModel",
          "model_module_version": "1.5.0",
          "state": {
            "_dom_classes": [],
            "_model_module": "@jupyter-widgets/controls",
            "_model_module_version": "1.5.0",
            "_model_name": "FloatProgressModel",
            "_view_count": null,
            "_view_module": "@jupyter-widgets/controls",
            "_view_module_version": "1.5.0",
            "_view_name": "ProgressView",
            "bar_style": "success",
            "description": "",
            "description_tooltip": null,
            "layout": "IPY_MODEL_42d292eaa89443ff92e7938705aa858b",
            "max": 3735,
            "min": 0,
            "orientation": "horizontal",
            "style": "IPY_MODEL_a6ea722d62984128b61fe3d636d7f3be",
            "value": 3735
          }
        },
        "25fe862b45164b31918a548b9777248e": {
          "model_module": "@jupyter-widgets/controls",
          "model_name": "HTMLModel",
          "model_module_version": "1.5.0",
          "state": {
            "_dom_classes": [],
            "_model_module": "@jupyter-widgets/controls",
            "_model_module_version": "1.5.0",
            "_model_name": "HTMLModel",
            "_view_count": null,
            "_view_module": "@jupyter-widgets/controls",
            "_view_module_version": "1.5.0",
            "_view_name": "HTMLView",
            "description": "",
            "description_tooltip": null,
            "layout": "IPY_MODEL_280bdf7dd07b489e8dfa9add5f6cb6c7",
            "placeholder": "​",
            "style": "IPY_MODEL_150d59b60c5741e1acba7211e7f26d5b",
            "value": " 3.73k/3.73k [00:00&lt;00:00, 78.0kB/s]"
          }
        },
        "26fb148ca8cc4bab87fc5a20f8128007": {
          "model_module": "@jupyter-widgets/base",
          "model_name": "LayoutModel",
          "model_module_version": "1.2.0",
          "state": {
            "_model_module": "@jupyter-widgets/base",
            "_model_module_version": "1.2.0",
            "_model_name": "LayoutModel",
            "_view_count": null,
            "_view_module": "@jupyter-widgets/base",
            "_view_module_version": "1.2.0",
            "_view_name": "LayoutView",
            "align_content": null,
            "align_items": null,
            "align_self": null,
            "border": null,
            "bottom": null,
            "display": null,
            "flex": null,
            "flex_flow": null,
            "grid_area": null,
            "grid_auto_columns": null,
            "grid_auto_flow": null,
            "grid_auto_rows": null,
            "grid_column": null,
            "grid_gap": null,
            "grid_row": null,
            "grid_template_areas": null,
            "grid_template_columns": null,
            "grid_template_rows": null,
            "height": null,
            "justify_content": null,
            "justify_items": null,
            "left": null,
            "margin": null,
            "max_height": null,
            "max_width": null,
            "min_height": null,
            "min_width": null,
            "object_fit": null,
            "object_position": null,
            "order": null,
            "overflow": null,
            "overflow_x": null,
            "overflow_y": null,
            "padding": null,
            "right": null,
            "top": null,
            "visibility": null,
            "width": null
          }
        },
        "9aee135f5b5f4c04846f90bbecd4f871": {
          "model_module": "@jupyter-widgets/base",
          "model_name": "LayoutModel",
          "model_module_version": "1.2.0",
          "state": {
            "_model_module": "@jupyter-widgets/base",
            "_model_module_version": "1.2.0",
            "_model_name": "LayoutModel",
            "_view_count": null,
            "_view_module": "@jupyter-widgets/base",
            "_view_module_version": "1.2.0",
            "_view_name": "LayoutView",
            "align_content": null,
            "align_items": null,
            "align_self": null,
            "border": null,
            "bottom": null,
            "display": null,
            "flex": null,
            "flex_flow": null,
            "grid_area": null,
            "grid_auto_columns": null,
            "grid_auto_flow": null,
            "grid_auto_rows": null,
            "grid_column": null,
            "grid_gap": null,
            "grid_row": null,
            "grid_template_areas": null,
            "grid_template_columns": null,
            "grid_template_rows": null,
            "height": null,
            "justify_content": null,
            "justify_items": null,
            "left": null,
            "margin": null,
            "max_height": null,
            "max_width": null,
            "min_height": null,
            "min_width": null,
            "object_fit": null,
            "object_position": null,
            "order": null,
            "overflow": null,
            "overflow_x": null,
            "overflow_y": null,
            "padding": null,
            "right": null,
            "top": null,
            "visibility": null,
            "width": null
          }
        },
        "fabded751e5449bb9a380c70763441c8": {
          "model_module": "@jupyter-widgets/controls",
          "model_name": "DescriptionStyleModel",
          "model_module_version": "1.5.0",
          "state": {
            "_model_module": "@jupyter-widgets/controls",
            "_model_module_version": "1.5.0",
            "_model_name": "DescriptionStyleModel",
            "_view_count": null,
            "_view_module": "@jupyter-widgets/base",
            "_view_module_version": "1.2.0",
            "_view_name": "StyleView",
            "description_width": ""
          }
        },
        "42d292eaa89443ff92e7938705aa858b": {
          "model_module": "@jupyter-widgets/base",
          "model_name": "LayoutModel",
          "model_module_version": "1.2.0",
          "state": {
            "_model_module": "@jupyter-widgets/base",
            "_model_module_version": "1.2.0",
            "_model_name": "LayoutModel",
            "_view_count": null,
            "_view_module": "@jupyter-widgets/base",
            "_view_module_version": "1.2.0",
            "_view_name": "LayoutView",
            "align_content": null,
            "align_items": null,
            "align_self": null,
            "border": null,
            "bottom": null,
            "display": null,
            "flex": null,
            "flex_flow": null,
            "grid_area": null,
            "grid_auto_columns": null,
            "grid_auto_flow": null,
            "grid_auto_rows": null,
            "grid_column": null,
            "grid_gap": null,
            "grid_row": null,
            "grid_template_areas": null,
            "grid_template_columns": null,
            "grid_template_rows": null,
            "height": null,
            "justify_content": null,
            "justify_items": null,
            "left": null,
            "margin": null,
            "max_height": null,
            "max_width": null,
            "min_height": null,
            "min_width": null,
            "object_fit": null,
            "object_position": null,
            "order": null,
            "overflow": null,
            "overflow_x": null,
            "overflow_y": null,
            "padding": null,
            "right": null,
            "top": null,
            "visibility": null,
            "width": null
          }
        },
        "a6ea722d62984128b61fe3d636d7f3be": {
          "model_module": "@jupyter-widgets/controls",
          "model_name": "ProgressStyleModel",
          "model_module_version": "1.5.0",
          "state": {
            "_model_module": "@jupyter-widgets/controls",
            "_model_module_version": "1.5.0",
            "_model_name": "ProgressStyleModel",
            "_view_count": null,
            "_view_module": "@jupyter-widgets/base",
            "_view_module_version": "1.2.0",
            "_view_name": "StyleView",
            "bar_color": null,
            "description_width": ""
          }
        },
        "280bdf7dd07b489e8dfa9add5f6cb6c7": {
          "model_module": "@jupyter-widgets/base",
          "model_name": "LayoutModel",
          "model_module_version": "1.2.0",
          "state": {
            "_model_module": "@jupyter-widgets/base",
            "_model_module_version": "1.2.0",
            "_model_name": "LayoutModel",
            "_view_count": null,
            "_view_module": "@jupyter-widgets/base",
            "_view_module_version": "1.2.0",
            "_view_name": "LayoutView",
            "align_content": null,
            "align_items": null,
            "align_self": null,
            "border": null,
            "bottom": null,
            "display": null,
            "flex": null,
            "flex_flow": null,
            "grid_area": null,
            "grid_auto_columns": null,
            "grid_auto_flow": null,
            "grid_auto_rows": null,
            "grid_column": null,
            "grid_gap": null,
            "grid_row": null,
            "grid_template_areas": null,
            "grid_template_columns": null,
            "grid_template_rows": null,
            "height": null,
            "justify_content": null,
            "justify_items": null,
            "left": null,
            "margin": null,
            "max_height": null,
            "max_width": null,
            "min_height": null,
            "min_width": null,
            "object_fit": null,
            "object_position": null,
            "order": null,
            "overflow": null,
            "overflow_x": null,
            "overflow_y": null,
            "padding": null,
            "right": null,
            "top": null,
            "visibility": null,
            "width": null
          }
        },
        "150d59b60c5741e1acba7211e7f26d5b": {
          "model_module": "@jupyter-widgets/controls",
          "model_name": "DescriptionStyleModel",
          "model_module_version": "1.5.0",
          "state": {
            "_model_module": "@jupyter-widgets/controls",
            "_model_module_version": "1.5.0",
            "_model_name": "DescriptionStyleModel",
            "_view_count": null,
            "_view_module": "@jupyter-widgets/base",
            "_view_module_version": "1.2.0",
            "_view_name": "StyleView",
            "description_width": ""
          }
        },
        "c2ff05f65e6941918acac59e906db817": {
          "model_module": "@jupyter-widgets/controls",
          "model_name": "HBoxModel",
          "model_module_version": "1.5.0",
          "state": {
            "_dom_classes": [],
            "_model_module": "@jupyter-widgets/controls",
            "_model_module_version": "1.5.0",
            "_model_name": "HBoxModel",
            "_view_count": null,
            "_view_module": "@jupyter-widgets/controls",
            "_view_module_version": "1.5.0",
            "_view_name": "HBoxView",
            "box_style": "",
            "children": [
              "IPY_MODEL_7b0e604581584417aa838984dad5974e",
              "IPY_MODEL_785e58c6f67a4b83a285264f5eada2da",
              "IPY_MODEL_7785b2632eb84e74b9337ad8848af7dc"
            ],
            "layout": "IPY_MODEL_2732641e6467411d9e77457df4d7ba31"
          }
        },
        "7b0e604581584417aa838984dad5974e": {
          "model_module": "@jupyter-widgets/controls",
          "model_name": "HTMLModel",
          "model_module_version": "1.5.0",
          "state": {
            "_dom_classes": [],
            "_model_module": "@jupyter-widgets/controls",
            "_model_module_version": "1.5.0",
            "_model_name": "HTMLModel",
            "_view_count": null,
            "_view_module": "@jupyter-widgets/controls",
            "_view_module_version": "1.5.0",
            "_view_name": "HTMLView",
            "description": "",
            "description_tooltip": null,
            "layout": "IPY_MODEL_30c274d20d2b4229b013bd215962f4de",
            "placeholder": "​",
            "style": "IPY_MODEL_2f886a6b649f46df9915c3b8f161305d",
            "value": "Downloading readme: 100%"
          }
        },
        "785e58c6f67a4b83a285264f5eada2da": {
          "model_module": "@jupyter-widgets/controls",
          "model_name": "FloatProgressModel",
          "model_module_version": "1.5.0",
          "state": {
            "_dom_classes": [],
            "_model_module": "@jupyter-widgets/controls",
            "_model_module_version": "1.5.0",
            "_model_name": "FloatProgressModel",
            "_view_count": null,
            "_view_module": "@jupyter-widgets/controls",
            "_view_module_version": "1.5.0",
            "_view_name": "ProgressView",
            "bar_style": "success",
            "description": "",
            "description_tooltip": null,
            "layout": "IPY_MODEL_a3e950b2628f4378b0ffec6a76000538",
            "max": 12330,
            "min": 0,
            "orientation": "horizontal",
            "style": "IPY_MODEL_e6127766c0654260b9cc12a333428e24",
            "value": 12330
          }
        },
        "7785b2632eb84e74b9337ad8848af7dc": {
          "model_module": "@jupyter-widgets/controls",
          "model_name": "HTMLModel",
          "model_module_version": "1.5.0",
          "state": {
            "_dom_classes": [],
            "_model_module": "@jupyter-widgets/controls",
            "_model_module_version": "1.5.0",
            "_model_name": "HTMLModel",
            "_view_count": null,
            "_view_module": "@jupyter-widgets/controls",
            "_view_module_version": "1.5.0",
            "_view_name": "HTMLView",
            "description": "",
            "description_tooltip": null,
            "layout": "IPY_MODEL_eeb745a2073f4b3d9e9ea16478a83129",
            "placeholder": "​",
            "style": "IPY_MODEL_191a7d5d8efb47028bad38d2bfadafca",
            "value": " 12.3k/12.3k [00:00&lt;00:00, 323kB/s]"
          }
        },
        "2732641e6467411d9e77457df4d7ba31": {
          "model_module": "@jupyter-widgets/base",
          "model_name": "LayoutModel",
          "model_module_version": "1.2.0",
          "state": {
            "_model_module": "@jupyter-widgets/base",
            "_model_module_version": "1.2.0",
            "_model_name": "LayoutModel",
            "_view_count": null,
            "_view_module": "@jupyter-widgets/base",
            "_view_module_version": "1.2.0",
            "_view_name": "LayoutView",
            "align_content": null,
            "align_items": null,
            "align_self": null,
            "border": null,
            "bottom": null,
            "display": null,
            "flex": null,
            "flex_flow": null,
            "grid_area": null,
            "grid_auto_columns": null,
            "grid_auto_flow": null,
            "grid_auto_rows": null,
            "grid_column": null,
            "grid_gap": null,
            "grid_row": null,
            "grid_template_areas": null,
            "grid_template_columns": null,
            "grid_template_rows": null,
            "height": null,
            "justify_content": null,
            "justify_items": null,
            "left": null,
            "margin": null,
            "max_height": null,
            "max_width": null,
            "min_height": null,
            "min_width": null,
            "object_fit": null,
            "object_position": null,
            "order": null,
            "overflow": null,
            "overflow_x": null,
            "overflow_y": null,
            "padding": null,
            "right": null,
            "top": null,
            "visibility": null,
            "width": null
          }
        },
        "30c274d20d2b4229b013bd215962f4de": {
          "model_module": "@jupyter-widgets/base",
          "model_name": "LayoutModel",
          "model_module_version": "1.2.0",
          "state": {
            "_model_module": "@jupyter-widgets/base",
            "_model_module_version": "1.2.0",
            "_model_name": "LayoutModel",
            "_view_count": null,
            "_view_module": "@jupyter-widgets/base",
            "_view_module_version": "1.2.0",
            "_view_name": "LayoutView",
            "align_content": null,
            "align_items": null,
            "align_self": null,
            "border": null,
            "bottom": null,
            "display": null,
            "flex": null,
            "flex_flow": null,
            "grid_area": null,
            "grid_auto_columns": null,
            "grid_auto_flow": null,
            "grid_auto_rows": null,
            "grid_column": null,
            "grid_gap": null,
            "grid_row": null,
            "grid_template_areas": null,
            "grid_template_columns": null,
            "grid_template_rows": null,
            "height": null,
            "justify_content": null,
            "justify_items": null,
            "left": null,
            "margin": null,
            "max_height": null,
            "max_width": null,
            "min_height": null,
            "min_width": null,
            "object_fit": null,
            "object_position": null,
            "order": null,
            "overflow": null,
            "overflow_x": null,
            "overflow_y": null,
            "padding": null,
            "right": null,
            "top": null,
            "visibility": null,
            "width": null
          }
        },
        "2f886a6b649f46df9915c3b8f161305d": {
          "model_module": "@jupyter-widgets/controls",
          "model_name": "DescriptionStyleModel",
          "model_module_version": "1.5.0",
          "state": {
            "_model_module": "@jupyter-widgets/controls",
            "_model_module_version": "1.5.0",
            "_model_name": "DescriptionStyleModel",
            "_view_count": null,
            "_view_module": "@jupyter-widgets/base",
            "_view_module_version": "1.2.0",
            "_view_name": "StyleView",
            "description_width": ""
          }
        },
        "a3e950b2628f4378b0ffec6a76000538": {
          "model_module": "@jupyter-widgets/base",
          "model_name": "LayoutModel",
          "model_module_version": "1.2.0",
          "state": {
            "_model_module": "@jupyter-widgets/base",
            "_model_module_version": "1.2.0",
            "_model_name": "LayoutModel",
            "_view_count": null,
            "_view_module": "@jupyter-widgets/base",
            "_view_module_version": "1.2.0",
            "_view_name": "LayoutView",
            "align_content": null,
            "align_items": null,
            "align_self": null,
            "border": null,
            "bottom": null,
            "display": null,
            "flex": null,
            "flex_flow": null,
            "grid_area": null,
            "grid_auto_columns": null,
            "grid_auto_flow": null,
            "grid_auto_rows": null,
            "grid_column": null,
            "grid_gap": null,
            "grid_row": null,
            "grid_template_areas": null,
            "grid_template_columns": null,
            "grid_template_rows": null,
            "height": null,
            "justify_content": null,
            "justify_items": null,
            "left": null,
            "margin": null,
            "max_height": null,
            "max_width": null,
            "min_height": null,
            "min_width": null,
            "object_fit": null,
            "object_position": null,
            "order": null,
            "overflow": null,
            "overflow_x": null,
            "overflow_y": null,
            "padding": null,
            "right": null,
            "top": null,
            "visibility": null,
            "width": null
          }
        },
        "e6127766c0654260b9cc12a333428e24": {
          "model_module": "@jupyter-widgets/controls",
          "model_name": "ProgressStyleModel",
          "model_module_version": "1.5.0",
          "state": {
            "_model_module": "@jupyter-widgets/controls",
            "_model_module_version": "1.5.0",
            "_model_name": "ProgressStyleModel",
            "_view_count": null,
            "_view_module": "@jupyter-widgets/base",
            "_view_module_version": "1.2.0",
            "_view_name": "StyleView",
            "bar_color": null,
            "description_width": ""
          }
        },
        "eeb745a2073f4b3d9e9ea16478a83129": {
          "model_module": "@jupyter-widgets/base",
          "model_name": "LayoutModel",
          "model_module_version": "1.2.0",
          "state": {
            "_model_module": "@jupyter-widgets/base",
            "_model_module_version": "1.2.0",
            "_model_name": "LayoutModel",
            "_view_count": null,
            "_view_module": "@jupyter-widgets/base",
            "_view_module_version": "1.2.0",
            "_view_name": "LayoutView",
            "align_content": null,
            "align_items": null,
            "align_self": null,
            "border": null,
            "bottom": null,
            "display": null,
            "flex": null,
            "flex_flow": null,
            "grid_area": null,
            "grid_auto_columns": null,
            "grid_auto_flow": null,
            "grid_auto_rows": null,
            "grid_column": null,
            "grid_gap": null,
            "grid_row": null,
            "grid_template_areas": null,
            "grid_template_columns": null,
            "grid_template_rows": null,
            "height": null,
            "justify_content": null,
            "justify_items": null,
            "left": null,
            "margin": null,
            "max_height": null,
            "max_width": null,
            "min_height": null,
            "min_width": null,
            "object_fit": null,
            "object_position": null,
            "order": null,
            "overflow": null,
            "overflow_x": null,
            "overflow_y": null,
            "padding": null,
            "right": null,
            "top": null,
            "visibility": null,
            "width": null
          }
        },
        "191a7d5d8efb47028bad38d2bfadafca": {
          "model_module": "@jupyter-widgets/controls",
          "model_name": "DescriptionStyleModel",
          "model_module_version": "1.5.0",
          "state": {
            "_model_module": "@jupyter-widgets/controls",
            "_model_module_version": "1.5.0",
            "_model_name": "DescriptionStyleModel",
            "_view_count": null,
            "_view_module": "@jupyter-widgets/base",
            "_view_module_version": "1.2.0",
            "_view_name": "StyleView",
            "description_width": ""
          }
        },
        "27f56c325a724c8e9e4a1bf29ba2e587": {
          "model_module": "@jupyter-widgets/controls",
          "model_name": "HBoxModel",
          "model_module_version": "1.5.0",
          "state": {
            "_dom_classes": [],
            "_model_module": "@jupyter-widgets/controls",
            "_model_module_version": "1.5.0",
            "_model_name": "HBoxModel",
            "_view_count": null,
            "_view_module": "@jupyter-widgets/controls",
            "_view_module_version": "1.5.0",
            "_view_name": "HBoxView",
            "box_style": "",
            "children": [
              "IPY_MODEL_e09e14ff7e5e40a1af114cd762622af1",
              "IPY_MODEL_f5c73e493ac14825b030cfbe2b031a99",
              "IPY_MODEL_c7e8efe5607e497b95235bd7498999d2"
            ],
            "layout": "IPY_MODEL_0652d7d14f4a401d8401dff627882c90"
          }
        },
        "e09e14ff7e5e40a1af114cd762622af1": {
          "model_module": "@jupyter-widgets/controls",
          "model_name": "HTMLModel",
          "model_module_version": "1.5.0",
          "state": {
            "_dom_classes": [],
            "_model_module": "@jupyter-widgets/controls",
            "_model_module_version": "1.5.0",
            "_model_name": "HTMLModel",
            "_view_count": null,
            "_view_module": "@jupyter-widgets/controls",
            "_view_module_version": "1.5.0",
            "_view_name": "HTMLView",
            "description": "",
            "description_tooltip": null,
            "layout": "IPY_MODEL_926a3f9d31db4a2c8e78216f6b73b175",
            "placeholder": "​",
            "style": "IPY_MODEL_0a61a9261d5843fb9278e4b0b3e12acd",
            "value": "Downloading data: 100%"
          }
        },
        "f5c73e493ac14825b030cfbe2b031a99": {
          "model_module": "@jupyter-widgets/controls",
          "model_name": "FloatProgressModel",
          "model_module_version": "1.5.0",
          "state": {
            "_dom_classes": [],
            "_model_module": "@jupyter-widgets/controls",
            "_model_module_version": "1.5.0",
            "_model_name": "FloatProgressModel",
            "_view_count": null,
            "_view_module": "@jupyter-widgets/controls",
            "_view_module_version": "1.5.0",
            "_view_name": "ProgressView",
            "bar_style": "success",
            "description": "",
            "description_tooltip": null,
            "layout": "IPY_MODEL_af50e35119cf45029cb1c5a9f74c01a1",
            "max": 982975,
            "min": 0,
            "orientation": "horizontal",
            "style": "IPY_MODEL_94fd439a5ef34c3ebc535dc5300b5b64",
            "value": 982975
          }
        },
        "c7e8efe5607e497b95235bd7498999d2": {
          "model_module": "@jupyter-widgets/controls",
          "model_name": "HTMLModel",
          "model_module_version": "1.5.0",
          "state": {
            "_dom_classes": [],
            "_model_module": "@jupyter-widgets/controls",
            "_model_module_version": "1.5.0",
            "_model_name": "HTMLModel",
            "_view_count": null,
            "_view_module": "@jupyter-widgets/controls",
            "_view_module_version": "1.5.0",
            "_view_name": "HTMLView",
            "description": "",
            "description_tooltip": null,
            "layout": "IPY_MODEL_1a5eec90cd33401a8655067ac51faa6c",
            "placeholder": "​",
            "style": "IPY_MODEL_90bd29ef023f4a72a036d434e2cd2414",
            "value": " 983k/983k [00:00&lt;00:00, 1.81MB/s]"
          }
        },
        "0652d7d14f4a401d8401dff627882c90": {
          "model_module": "@jupyter-widgets/base",
          "model_name": "LayoutModel",
          "model_module_version": "1.2.0",
          "state": {
            "_model_module": "@jupyter-widgets/base",
            "_model_module_version": "1.2.0",
            "_model_name": "LayoutModel",
            "_view_count": null,
            "_view_module": "@jupyter-widgets/base",
            "_view_module_version": "1.2.0",
            "_view_name": "LayoutView",
            "align_content": null,
            "align_items": null,
            "align_self": null,
            "border": null,
            "bottom": null,
            "display": null,
            "flex": null,
            "flex_flow": null,
            "grid_area": null,
            "grid_auto_columns": null,
            "grid_auto_flow": null,
            "grid_auto_rows": null,
            "grid_column": null,
            "grid_gap": null,
            "grid_row": null,
            "grid_template_areas": null,
            "grid_template_columns": null,
            "grid_template_rows": null,
            "height": null,
            "justify_content": null,
            "justify_items": null,
            "left": null,
            "margin": null,
            "max_height": null,
            "max_width": null,
            "min_height": null,
            "min_width": null,
            "object_fit": null,
            "object_position": null,
            "order": null,
            "overflow": null,
            "overflow_x": null,
            "overflow_y": null,
            "padding": null,
            "right": null,
            "top": null,
            "visibility": null,
            "width": null
          }
        },
        "926a3f9d31db4a2c8e78216f6b73b175": {
          "model_module": "@jupyter-widgets/base",
          "model_name": "LayoutModel",
          "model_module_version": "1.2.0",
          "state": {
            "_model_module": "@jupyter-widgets/base",
            "_model_module_version": "1.2.0",
            "_model_name": "LayoutModel",
            "_view_count": null,
            "_view_module": "@jupyter-widgets/base",
            "_view_module_version": "1.2.0",
            "_view_name": "LayoutView",
            "align_content": null,
            "align_items": null,
            "align_self": null,
            "border": null,
            "bottom": null,
            "display": null,
            "flex": null,
            "flex_flow": null,
            "grid_area": null,
            "grid_auto_columns": null,
            "grid_auto_flow": null,
            "grid_auto_rows": null,
            "grid_column": null,
            "grid_gap": null,
            "grid_row": null,
            "grid_template_areas": null,
            "grid_template_columns": null,
            "grid_template_rows": null,
            "height": null,
            "justify_content": null,
            "justify_items": null,
            "left": null,
            "margin": null,
            "max_height": null,
            "max_width": null,
            "min_height": null,
            "min_width": null,
            "object_fit": null,
            "object_position": null,
            "order": null,
            "overflow": null,
            "overflow_x": null,
            "overflow_y": null,
            "padding": null,
            "right": null,
            "top": null,
            "visibility": null,
            "width": null
          }
        },
        "0a61a9261d5843fb9278e4b0b3e12acd": {
          "model_module": "@jupyter-widgets/controls",
          "model_name": "DescriptionStyleModel",
          "model_module_version": "1.5.0",
          "state": {
            "_model_module": "@jupyter-widgets/controls",
            "_model_module_version": "1.5.0",
            "_model_name": "DescriptionStyleModel",
            "_view_count": null,
            "_view_module": "@jupyter-widgets/base",
            "_view_module_version": "1.2.0",
            "_view_name": "StyleView",
            "description_width": ""
          }
        },
        "af50e35119cf45029cb1c5a9f74c01a1": {
          "model_module": "@jupyter-widgets/base",
          "model_name": "LayoutModel",
          "model_module_version": "1.2.0",
          "state": {
            "_model_module": "@jupyter-widgets/base",
            "_model_module_version": "1.2.0",
            "_model_name": "LayoutModel",
            "_view_count": null,
            "_view_module": "@jupyter-widgets/base",
            "_view_module_version": "1.2.0",
            "_view_name": "LayoutView",
            "align_content": null,
            "align_items": null,
            "align_self": null,
            "border": null,
            "bottom": null,
            "display": null,
            "flex": null,
            "flex_flow": null,
            "grid_area": null,
            "grid_auto_columns": null,
            "grid_auto_flow": null,
            "grid_auto_rows": null,
            "grid_column": null,
            "grid_gap": null,
            "grid_row": null,
            "grid_template_areas": null,
            "grid_template_columns": null,
            "grid_template_rows": null,
            "height": null,
            "justify_content": null,
            "justify_items": null,
            "left": null,
            "margin": null,
            "max_height": null,
            "max_width": null,
            "min_height": null,
            "min_width": null,
            "object_fit": null,
            "object_position": null,
            "order": null,
            "overflow": null,
            "overflow_x": null,
            "overflow_y": null,
            "padding": null,
            "right": null,
            "top": null,
            "visibility": null,
            "width": null
          }
        },
        "94fd439a5ef34c3ebc535dc5300b5b64": {
          "model_module": "@jupyter-widgets/controls",
          "model_name": "ProgressStyleModel",
          "model_module_version": "1.5.0",
          "state": {
            "_model_module": "@jupyter-widgets/controls",
            "_model_module_version": "1.5.0",
            "_model_name": "ProgressStyleModel",
            "_view_count": null,
            "_view_module": "@jupyter-widgets/base",
            "_view_module_version": "1.2.0",
            "_view_name": "StyleView",
            "bar_color": null,
            "description_width": ""
          }
        },
        "1a5eec90cd33401a8655067ac51faa6c": {
          "model_module": "@jupyter-widgets/base",
          "model_name": "LayoutModel",
          "model_module_version": "1.2.0",
          "state": {
            "_model_module": "@jupyter-widgets/base",
            "_model_module_version": "1.2.0",
            "_model_name": "LayoutModel",
            "_view_count": null,
            "_view_module": "@jupyter-widgets/base",
            "_view_module_version": "1.2.0",
            "_view_name": "LayoutView",
            "align_content": null,
            "align_items": null,
            "align_self": null,
            "border": null,
            "bottom": null,
            "display": null,
            "flex": null,
            "flex_flow": null,
            "grid_area": null,
            "grid_auto_columns": null,
            "grid_auto_flow": null,
            "grid_auto_rows": null,
            "grid_column": null,
            "grid_gap": null,
            "grid_row": null,
            "grid_template_areas": null,
            "grid_template_columns": null,
            "grid_template_rows": null,
            "height": null,
            "justify_content": null,
            "justify_items": null,
            "left": null,
            "margin": null,
            "max_height": null,
            "max_width": null,
            "min_height": null,
            "min_width": null,
            "object_fit": null,
            "object_position": null,
            "order": null,
            "overflow": null,
            "overflow_x": null,
            "overflow_y": null,
            "padding": null,
            "right": null,
            "top": null,
            "visibility": null,
            "width": null
          }
        },
        "90bd29ef023f4a72a036d434e2cd2414": {
          "model_module": "@jupyter-widgets/controls",
          "model_name": "DescriptionStyleModel",
          "model_module_version": "1.5.0",
          "state": {
            "_model_module": "@jupyter-widgets/controls",
            "_model_module_version": "1.5.0",
            "_model_name": "DescriptionStyleModel",
            "_view_count": null,
            "_view_module": "@jupyter-widgets/base",
            "_view_module_version": "1.2.0",
            "_view_name": "StyleView",
            "description_width": ""
          }
        },
        "931bab8e01844c2bba3b02a653fa237f": {
          "model_module": "@jupyter-widgets/controls",
          "model_name": "HBoxModel",
          "model_module_version": "1.5.0",
          "state": {
            "_dom_classes": [],
            "_model_module": "@jupyter-widgets/controls",
            "_model_module_version": "1.5.0",
            "_model_name": "HBoxModel",
            "_view_count": null,
            "_view_module": "@jupyter-widgets/controls",
            "_view_module_version": "1.5.0",
            "_view_name": "HBoxView",
            "box_style": "",
            "children": [
              "IPY_MODEL_4292a39801b0449eac9b9f28147f9f96",
              "IPY_MODEL_5d23b3918a9a407d8f4530c61fee33b1",
              "IPY_MODEL_c383cb04d9574c3cbbac941aa2633934"
            ],
            "layout": "IPY_MODEL_99fa4ac28312468797f1f29ed468d815"
          }
        },
        "4292a39801b0449eac9b9f28147f9f96": {
          "model_module": "@jupyter-widgets/controls",
          "model_name": "HTMLModel",
          "model_module_version": "1.5.0",
          "state": {
            "_dom_classes": [],
            "_model_module": "@jupyter-widgets/controls",
            "_model_module_version": "1.5.0",
            "_model_name": "HTMLModel",
            "_view_count": null,
            "_view_module": "@jupyter-widgets/controls",
            "_view_module_version": "1.5.0",
            "_view_name": "HTMLView",
            "description": "",
            "description_tooltip": null,
            "layout": "IPY_MODEL_1178849f8e8346019e519aa8117c40db",
            "placeholder": "​",
            "style": "IPY_MODEL_596aa60593ce4fa68f534b80ca6b8201",
            "value": "Generating train split: 100%"
          }
        },
        "5d23b3918a9a407d8f4530c61fee33b1": {
          "model_module": "@jupyter-widgets/controls",
          "model_name": "FloatProgressModel",
          "model_module_version": "1.5.0",
          "state": {
            "_dom_classes": [],
            "_model_module": "@jupyter-widgets/controls",
            "_model_module_version": "1.5.0",
            "_model_name": "FloatProgressModel",
            "_view_count": null,
            "_view_module": "@jupyter-widgets/controls",
            "_view_module_version": "1.5.0",
            "_view_name": "ProgressView",
            "bar_style": "success",
            "description": "",
            "description_tooltip": null,
            "layout": "IPY_MODEL_37a2d0a8b76d4ae496116c3ebbdc495d",
            "max": 14041,
            "min": 0,
            "orientation": "horizontal",
            "style": "IPY_MODEL_dc74170f12b94a6784da0cf275127ccf",
            "value": 14041
          }
        },
        "c383cb04d9574c3cbbac941aa2633934": {
          "model_module": "@jupyter-widgets/controls",
          "model_name": "HTMLModel",
          "model_module_version": "1.5.0",
          "state": {
            "_dom_classes": [],
            "_model_module": "@jupyter-widgets/controls",
            "_model_module_version": "1.5.0",
            "_model_name": "HTMLModel",
            "_view_count": null,
            "_view_module": "@jupyter-widgets/controls",
            "_view_module_version": "1.5.0",
            "_view_name": "HTMLView",
            "description": "",
            "description_tooltip": null,
            "layout": "IPY_MODEL_17303ccbf83d450e8cc11e94982cb5e1",
            "placeholder": "​",
            "style": "IPY_MODEL_6ad03edd51794645b39e25a511ff2795",
            "value": " 14041/14041 [00:04&lt;00:00, 2317.88 examples/s]"
          }
        },
        "99fa4ac28312468797f1f29ed468d815": {
          "model_module": "@jupyter-widgets/base",
          "model_name": "LayoutModel",
          "model_module_version": "1.2.0",
          "state": {
            "_model_module": "@jupyter-widgets/base",
            "_model_module_version": "1.2.0",
            "_model_name": "LayoutModel",
            "_view_count": null,
            "_view_module": "@jupyter-widgets/base",
            "_view_module_version": "1.2.0",
            "_view_name": "LayoutView",
            "align_content": null,
            "align_items": null,
            "align_self": null,
            "border": null,
            "bottom": null,
            "display": null,
            "flex": null,
            "flex_flow": null,
            "grid_area": null,
            "grid_auto_columns": null,
            "grid_auto_flow": null,
            "grid_auto_rows": null,
            "grid_column": null,
            "grid_gap": null,
            "grid_row": null,
            "grid_template_areas": null,
            "grid_template_columns": null,
            "grid_template_rows": null,
            "height": null,
            "justify_content": null,
            "justify_items": null,
            "left": null,
            "margin": null,
            "max_height": null,
            "max_width": null,
            "min_height": null,
            "min_width": null,
            "object_fit": null,
            "object_position": null,
            "order": null,
            "overflow": null,
            "overflow_x": null,
            "overflow_y": null,
            "padding": null,
            "right": null,
            "top": null,
            "visibility": null,
            "width": null
          }
        },
        "1178849f8e8346019e519aa8117c40db": {
          "model_module": "@jupyter-widgets/base",
          "model_name": "LayoutModel",
          "model_module_version": "1.2.0",
          "state": {
            "_model_module": "@jupyter-widgets/base",
            "_model_module_version": "1.2.0",
            "_model_name": "LayoutModel",
            "_view_count": null,
            "_view_module": "@jupyter-widgets/base",
            "_view_module_version": "1.2.0",
            "_view_name": "LayoutView",
            "align_content": null,
            "align_items": null,
            "align_self": null,
            "border": null,
            "bottom": null,
            "display": null,
            "flex": null,
            "flex_flow": null,
            "grid_area": null,
            "grid_auto_columns": null,
            "grid_auto_flow": null,
            "grid_auto_rows": null,
            "grid_column": null,
            "grid_gap": null,
            "grid_row": null,
            "grid_template_areas": null,
            "grid_template_columns": null,
            "grid_template_rows": null,
            "height": null,
            "justify_content": null,
            "justify_items": null,
            "left": null,
            "margin": null,
            "max_height": null,
            "max_width": null,
            "min_height": null,
            "min_width": null,
            "object_fit": null,
            "object_position": null,
            "order": null,
            "overflow": null,
            "overflow_x": null,
            "overflow_y": null,
            "padding": null,
            "right": null,
            "top": null,
            "visibility": null,
            "width": null
          }
        },
        "596aa60593ce4fa68f534b80ca6b8201": {
          "model_module": "@jupyter-widgets/controls",
          "model_name": "DescriptionStyleModel",
          "model_module_version": "1.5.0",
          "state": {
            "_model_module": "@jupyter-widgets/controls",
            "_model_module_version": "1.5.0",
            "_model_name": "DescriptionStyleModel",
            "_view_count": null,
            "_view_module": "@jupyter-widgets/base",
            "_view_module_version": "1.2.0",
            "_view_name": "StyleView",
            "description_width": ""
          }
        },
        "37a2d0a8b76d4ae496116c3ebbdc495d": {
          "model_module": "@jupyter-widgets/base",
          "model_name": "LayoutModel",
          "model_module_version": "1.2.0",
          "state": {
            "_model_module": "@jupyter-widgets/base",
            "_model_module_version": "1.2.0",
            "_model_name": "LayoutModel",
            "_view_count": null,
            "_view_module": "@jupyter-widgets/base",
            "_view_module_version": "1.2.0",
            "_view_name": "LayoutView",
            "align_content": null,
            "align_items": null,
            "align_self": null,
            "border": null,
            "bottom": null,
            "display": null,
            "flex": null,
            "flex_flow": null,
            "grid_area": null,
            "grid_auto_columns": null,
            "grid_auto_flow": null,
            "grid_auto_rows": null,
            "grid_column": null,
            "grid_gap": null,
            "grid_row": null,
            "grid_template_areas": null,
            "grid_template_columns": null,
            "grid_template_rows": null,
            "height": null,
            "justify_content": null,
            "justify_items": null,
            "left": null,
            "margin": null,
            "max_height": null,
            "max_width": null,
            "min_height": null,
            "min_width": null,
            "object_fit": null,
            "object_position": null,
            "order": null,
            "overflow": null,
            "overflow_x": null,
            "overflow_y": null,
            "padding": null,
            "right": null,
            "top": null,
            "visibility": null,
            "width": null
          }
        },
        "dc74170f12b94a6784da0cf275127ccf": {
          "model_module": "@jupyter-widgets/controls",
          "model_name": "ProgressStyleModel",
          "model_module_version": "1.5.0",
          "state": {
            "_model_module": "@jupyter-widgets/controls",
            "_model_module_version": "1.5.0",
            "_model_name": "ProgressStyleModel",
            "_view_count": null,
            "_view_module": "@jupyter-widgets/base",
            "_view_module_version": "1.2.0",
            "_view_name": "StyleView",
            "bar_color": null,
            "description_width": ""
          }
        },
        "17303ccbf83d450e8cc11e94982cb5e1": {
          "model_module": "@jupyter-widgets/base",
          "model_name": "LayoutModel",
          "model_module_version": "1.2.0",
          "state": {
            "_model_module": "@jupyter-widgets/base",
            "_model_module_version": "1.2.0",
            "_model_name": "LayoutModel",
            "_view_count": null,
            "_view_module": "@jupyter-widgets/base",
            "_view_module_version": "1.2.0",
            "_view_name": "LayoutView",
            "align_content": null,
            "align_items": null,
            "align_self": null,
            "border": null,
            "bottom": null,
            "display": null,
            "flex": null,
            "flex_flow": null,
            "grid_area": null,
            "grid_auto_columns": null,
            "grid_auto_flow": null,
            "grid_auto_rows": null,
            "grid_column": null,
            "grid_gap": null,
            "grid_row": null,
            "grid_template_areas": null,
            "grid_template_columns": null,
            "grid_template_rows": null,
            "height": null,
            "justify_content": null,
            "justify_items": null,
            "left": null,
            "margin": null,
            "max_height": null,
            "max_width": null,
            "min_height": null,
            "min_width": null,
            "object_fit": null,
            "object_position": null,
            "order": null,
            "overflow": null,
            "overflow_x": null,
            "overflow_y": null,
            "padding": null,
            "right": null,
            "top": null,
            "visibility": null,
            "width": null
          }
        },
        "6ad03edd51794645b39e25a511ff2795": {
          "model_module": "@jupyter-widgets/controls",
          "model_name": "DescriptionStyleModel",
          "model_module_version": "1.5.0",
          "state": {
            "_model_module": "@jupyter-widgets/controls",
            "_model_module_version": "1.5.0",
            "_model_name": "DescriptionStyleModel",
            "_view_count": null,
            "_view_module": "@jupyter-widgets/base",
            "_view_module_version": "1.2.0",
            "_view_name": "StyleView",
            "description_width": ""
          }
        },
        "1013cdc8b4414a1db69abc606676ce56": {
          "model_module": "@jupyter-widgets/controls",
          "model_name": "HBoxModel",
          "model_module_version": "1.5.0",
          "state": {
            "_dom_classes": [],
            "_model_module": "@jupyter-widgets/controls",
            "_model_module_version": "1.5.0",
            "_model_name": "HBoxModel",
            "_view_count": null,
            "_view_module": "@jupyter-widgets/controls",
            "_view_module_version": "1.5.0",
            "_view_name": "HBoxView",
            "box_style": "",
            "children": [
              "IPY_MODEL_a5d4da62458542c7b010500f8987c9e6",
              "IPY_MODEL_501e52455e59461aa1ec127422914753",
              "IPY_MODEL_126a16c301dd426184d33a7d75666aeb"
            ],
            "layout": "IPY_MODEL_53583f8befa34038b496026e39cdc94c"
          }
        },
        "a5d4da62458542c7b010500f8987c9e6": {
          "model_module": "@jupyter-widgets/controls",
          "model_name": "HTMLModel",
          "model_module_version": "1.5.0",
          "state": {
            "_dom_classes": [],
            "_model_module": "@jupyter-widgets/controls",
            "_model_module_version": "1.5.0",
            "_model_name": "HTMLModel",
            "_view_count": null,
            "_view_module": "@jupyter-widgets/controls",
            "_view_module_version": "1.5.0",
            "_view_name": "HTMLView",
            "description": "",
            "description_tooltip": null,
            "layout": "IPY_MODEL_e8850b20b3734f788182a9e9edba84f2",
            "placeholder": "​",
            "style": "IPY_MODEL_9cf237d6a99042d9a22d78df56fc3f27",
            "value": "Generating validation split: 100%"
          }
        },
        "501e52455e59461aa1ec127422914753": {
          "model_module": "@jupyter-widgets/controls",
          "model_name": "FloatProgressModel",
          "model_module_version": "1.5.0",
          "state": {
            "_dom_classes": [],
            "_model_module": "@jupyter-widgets/controls",
            "_model_module_version": "1.5.0",
            "_model_name": "FloatProgressModel",
            "_view_count": null,
            "_view_module": "@jupyter-widgets/controls",
            "_view_module_version": "1.5.0",
            "_view_name": "ProgressView",
            "bar_style": "success",
            "description": "",
            "description_tooltip": null,
            "layout": "IPY_MODEL_57063518803f4e00afaba181bb41c3ce",
            "max": 3250,
            "min": 0,
            "orientation": "horizontal",
            "style": "IPY_MODEL_c8e0ae1f09524f70bd742b279156bbad",
            "value": 3250
          }
        },
        "126a16c301dd426184d33a7d75666aeb": {
          "model_module": "@jupyter-widgets/controls",
          "model_name": "HTMLModel",
          "model_module_version": "1.5.0",
          "state": {
            "_dom_classes": [],
            "_model_module": "@jupyter-widgets/controls",
            "_model_module_version": "1.5.0",
            "_model_name": "HTMLModel",
            "_view_count": null,
            "_view_module": "@jupyter-widgets/controls",
            "_view_module_version": "1.5.0",
            "_view_name": "HTMLView",
            "description": "",
            "description_tooltip": null,
            "layout": "IPY_MODEL_aeca345de0bb4676a0278b04901d45f6",
            "placeholder": "​",
            "style": "IPY_MODEL_12d75066d97d447693220fe06e050601",
            "value": " 3250/3250 [00:01&lt;00:00, 2339.87 examples/s]"
          }
        },
        "53583f8befa34038b496026e39cdc94c": {
          "model_module": "@jupyter-widgets/base",
          "model_name": "LayoutModel",
          "model_module_version": "1.2.0",
          "state": {
            "_model_module": "@jupyter-widgets/base",
            "_model_module_version": "1.2.0",
            "_model_name": "LayoutModel",
            "_view_count": null,
            "_view_module": "@jupyter-widgets/base",
            "_view_module_version": "1.2.0",
            "_view_name": "LayoutView",
            "align_content": null,
            "align_items": null,
            "align_self": null,
            "border": null,
            "bottom": null,
            "display": null,
            "flex": null,
            "flex_flow": null,
            "grid_area": null,
            "grid_auto_columns": null,
            "grid_auto_flow": null,
            "grid_auto_rows": null,
            "grid_column": null,
            "grid_gap": null,
            "grid_row": null,
            "grid_template_areas": null,
            "grid_template_columns": null,
            "grid_template_rows": null,
            "height": null,
            "justify_content": null,
            "justify_items": null,
            "left": null,
            "margin": null,
            "max_height": null,
            "max_width": null,
            "min_height": null,
            "min_width": null,
            "object_fit": null,
            "object_position": null,
            "order": null,
            "overflow": null,
            "overflow_x": null,
            "overflow_y": null,
            "padding": null,
            "right": null,
            "top": null,
            "visibility": null,
            "width": null
          }
        },
        "e8850b20b3734f788182a9e9edba84f2": {
          "model_module": "@jupyter-widgets/base",
          "model_name": "LayoutModel",
          "model_module_version": "1.2.0",
          "state": {
            "_model_module": "@jupyter-widgets/base",
            "_model_module_version": "1.2.0",
            "_model_name": "LayoutModel",
            "_view_count": null,
            "_view_module": "@jupyter-widgets/base",
            "_view_module_version": "1.2.0",
            "_view_name": "LayoutView",
            "align_content": null,
            "align_items": null,
            "align_self": null,
            "border": null,
            "bottom": null,
            "display": null,
            "flex": null,
            "flex_flow": null,
            "grid_area": null,
            "grid_auto_columns": null,
            "grid_auto_flow": null,
            "grid_auto_rows": null,
            "grid_column": null,
            "grid_gap": null,
            "grid_row": null,
            "grid_template_areas": null,
            "grid_template_columns": null,
            "grid_template_rows": null,
            "height": null,
            "justify_content": null,
            "justify_items": null,
            "left": null,
            "margin": null,
            "max_height": null,
            "max_width": null,
            "min_height": null,
            "min_width": null,
            "object_fit": null,
            "object_position": null,
            "order": null,
            "overflow": null,
            "overflow_x": null,
            "overflow_y": null,
            "padding": null,
            "right": null,
            "top": null,
            "visibility": null,
            "width": null
          }
        },
        "9cf237d6a99042d9a22d78df56fc3f27": {
          "model_module": "@jupyter-widgets/controls",
          "model_name": "DescriptionStyleModel",
          "model_module_version": "1.5.0",
          "state": {
            "_model_module": "@jupyter-widgets/controls",
            "_model_module_version": "1.5.0",
            "_model_name": "DescriptionStyleModel",
            "_view_count": null,
            "_view_module": "@jupyter-widgets/base",
            "_view_module_version": "1.2.0",
            "_view_name": "StyleView",
            "description_width": ""
          }
        },
        "57063518803f4e00afaba181bb41c3ce": {
          "model_module": "@jupyter-widgets/base",
          "model_name": "LayoutModel",
          "model_module_version": "1.2.0",
          "state": {
            "_model_module": "@jupyter-widgets/base",
            "_model_module_version": "1.2.0",
            "_model_name": "LayoutModel",
            "_view_count": null,
            "_view_module": "@jupyter-widgets/base",
            "_view_module_version": "1.2.0",
            "_view_name": "LayoutView",
            "align_content": null,
            "align_items": null,
            "align_self": null,
            "border": null,
            "bottom": null,
            "display": null,
            "flex": null,
            "flex_flow": null,
            "grid_area": null,
            "grid_auto_columns": null,
            "grid_auto_flow": null,
            "grid_auto_rows": null,
            "grid_column": null,
            "grid_gap": null,
            "grid_row": null,
            "grid_template_areas": null,
            "grid_template_columns": null,
            "grid_template_rows": null,
            "height": null,
            "justify_content": null,
            "justify_items": null,
            "left": null,
            "margin": null,
            "max_height": null,
            "max_width": null,
            "min_height": null,
            "min_width": null,
            "object_fit": null,
            "object_position": null,
            "order": null,
            "overflow": null,
            "overflow_x": null,
            "overflow_y": null,
            "padding": null,
            "right": null,
            "top": null,
            "visibility": null,
            "width": null
          }
        },
        "c8e0ae1f09524f70bd742b279156bbad": {
          "model_module": "@jupyter-widgets/controls",
          "model_name": "ProgressStyleModel",
          "model_module_version": "1.5.0",
          "state": {
            "_model_module": "@jupyter-widgets/controls",
            "_model_module_version": "1.5.0",
            "_model_name": "ProgressStyleModel",
            "_view_count": null,
            "_view_module": "@jupyter-widgets/base",
            "_view_module_version": "1.2.0",
            "_view_name": "StyleView",
            "bar_color": null,
            "description_width": ""
          }
        },
        "aeca345de0bb4676a0278b04901d45f6": {
          "model_module": "@jupyter-widgets/base",
          "model_name": "LayoutModel",
          "model_module_version": "1.2.0",
          "state": {
            "_model_module": "@jupyter-widgets/base",
            "_model_module_version": "1.2.0",
            "_model_name": "LayoutModel",
            "_view_count": null,
            "_view_module": "@jupyter-widgets/base",
            "_view_module_version": "1.2.0",
            "_view_name": "LayoutView",
            "align_content": null,
            "align_items": null,
            "align_self": null,
            "border": null,
            "bottom": null,
            "display": null,
            "flex": null,
            "flex_flow": null,
            "grid_area": null,
            "grid_auto_columns": null,
            "grid_auto_flow": null,
            "grid_auto_rows": null,
            "grid_column": null,
            "grid_gap": null,
            "grid_row": null,
            "grid_template_areas": null,
            "grid_template_columns": null,
            "grid_template_rows": null,
            "height": null,
            "justify_content": null,
            "justify_items": null,
            "left": null,
            "margin": null,
            "max_height": null,
            "max_width": null,
            "min_height": null,
            "min_width": null,
            "object_fit": null,
            "object_position": null,
            "order": null,
            "overflow": null,
            "overflow_x": null,
            "overflow_y": null,
            "padding": null,
            "right": null,
            "top": null,
            "visibility": null,
            "width": null
          }
        },
        "12d75066d97d447693220fe06e050601": {
          "model_module": "@jupyter-widgets/controls",
          "model_name": "DescriptionStyleModel",
          "model_module_version": "1.5.0",
          "state": {
            "_model_module": "@jupyter-widgets/controls",
            "_model_module_version": "1.5.0",
            "_model_name": "DescriptionStyleModel",
            "_view_count": null,
            "_view_module": "@jupyter-widgets/base",
            "_view_module_version": "1.2.0",
            "_view_name": "StyleView",
            "description_width": ""
          }
        },
        "4b026c0145d0482ab961a85d5e77950a": {
          "model_module": "@jupyter-widgets/controls",
          "model_name": "HBoxModel",
          "model_module_version": "1.5.0",
          "state": {
            "_dom_classes": [],
            "_model_module": "@jupyter-widgets/controls",
            "_model_module_version": "1.5.0",
            "_model_name": "HBoxModel",
            "_view_count": null,
            "_view_module": "@jupyter-widgets/controls",
            "_view_module_version": "1.5.0",
            "_view_name": "HBoxView",
            "box_style": "",
            "children": [
              "IPY_MODEL_aded8f2e20184f4580098c474f6d4eca",
              "IPY_MODEL_46a7eaf1f1024c558290ecc0d3e1acab",
              "IPY_MODEL_b895e04a4db94a1e9973f2127d8b0eed"
            ],
            "layout": "IPY_MODEL_97b542dcee67449c92d64c109da12ab2"
          }
        },
        "aded8f2e20184f4580098c474f6d4eca": {
          "model_module": "@jupyter-widgets/controls",
          "model_name": "HTMLModel",
          "model_module_version": "1.5.0",
          "state": {
            "_dom_classes": [],
            "_model_module": "@jupyter-widgets/controls",
            "_model_module_version": "1.5.0",
            "_model_name": "HTMLModel",
            "_view_count": null,
            "_view_module": "@jupyter-widgets/controls",
            "_view_module_version": "1.5.0",
            "_view_name": "HTMLView",
            "description": "",
            "description_tooltip": null,
            "layout": "IPY_MODEL_6d1aaf7e26f144beab93f8b1cccaafa1",
            "placeholder": "​",
            "style": "IPY_MODEL_fc2553d27dfd4cd5b66fb3b4d986e6a7",
            "value": "Generating test split: 100%"
          }
        },
        "46a7eaf1f1024c558290ecc0d3e1acab": {
          "model_module": "@jupyter-widgets/controls",
          "model_name": "FloatProgressModel",
          "model_module_version": "1.5.0",
          "state": {
            "_dom_classes": [],
            "_model_module": "@jupyter-widgets/controls",
            "_model_module_version": "1.5.0",
            "_model_name": "FloatProgressModel",
            "_view_count": null,
            "_view_module": "@jupyter-widgets/controls",
            "_view_module_version": "1.5.0",
            "_view_name": "ProgressView",
            "bar_style": "success",
            "description": "",
            "description_tooltip": null,
            "layout": "IPY_MODEL_db91716e7989460591f31e7400255216",
            "max": 3453,
            "min": 0,
            "orientation": "horizontal",
            "style": "IPY_MODEL_942eb81d53424bffaa19e9493b0fcb84",
            "value": 3453
          }
        },
        "b895e04a4db94a1e9973f2127d8b0eed": {
          "model_module": "@jupyter-widgets/controls",
          "model_name": "HTMLModel",
          "model_module_version": "1.5.0",
          "state": {
            "_dom_classes": [],
            "_model_module": "@jupyter-widgets/controls",
            "_model_module_version": "1.5.0",
            "_model_name": "HTMLModel",
            "_view_count": null,
            "_view_module": "@jupyter-widgets/controls",
            "_view_module_version": "1.5.0",
            "_view_name": "HTMLView",
            "description": "",
            "description_tooltip": null,
            "layout": "IPY_MODEL_85fe709586254c9faf6f676e3a8d9980",
            "placeholder": "​",
            "style": "IPY_MODEL_6c0b5a9ba85f4c85b8ff35fc7a2b8d8b",
            "value": " 3453/3453 [00:01&lt;00:00, 2538.95 examples/s]"
          }
        },
        "97b542dcee67449c92d64c109da12ab2": {
          "model_module": "@jupyter-widgets/base",
          "model_name": "LayoutModel",
          "model_module_version": "1.2.0",
          "state": {
            "_model_module": "@jupyter-widgets/base",
            "_model_module_version": "1.2.0",
            "_model_name": "LayoutModel",
            "_view_count": null,
            "_view_module": "@jupyter-widgets/base",
            "_view_module_version": "1.2.0",
            "_view_name": "LayoutView",
            "align_content": null,
            "align_items": null,
            "align_self": null,
            "border": null,
            "bottom": null,
            "display": null,
            "flex": null,
            "flex_flow": null,
            "grid_area": null,
            "grid_auto_columns": null,
            "grid_auto_flow": null,
            "grid_auto_rows": null,
            "grid_column": null,
            "grid_gap": null,
            "grid_row": null,
            "grid_template_areas": null,
            "grid_template_columns": null,
            "grid_template_rows": null,
            "height": null,
            "justify_content": null,
            "justify_items": null,
            "left": null,
            "margin": null,
            "max_height": null,
            "max_width": null,
            "min_height": null,
            "min_width": null,
            "object_fit": null,
            "object_position": null,
            "order": null,
            "overflow": null,
            "overflow_x": null,
            "overflow_y": null,
            "padding": null,
            "right": null,
            "top": null,
            "visibility": null,
            "width": null
          }
        },
        "6d1aaf7e26f144beab93f8b1cccaafa1": {
          "model_module": "@jupyter-widgets/base",
          "model_name": "LayoutModel",
          "model_module_version": "1.2.0",
          "state": {
            "_model_module": "@jupyter-widgets/base",
            "_model_module_version": "1.2.0",
            "_model_name": "LayoutModel",
            "_view_count": null,
            "_view_module": "@jupyter-widgets/base",
            "_view_module_version": "1.2.0",
            "_view_name": "LayoutView",
            "align_content": null,
            "align_items": null,
            "align_self": null,
            "border": null,
            "bottom": null,
            "display": null,
            "flex": null,
            "flex_flow": null,
            "grid_area": null,
            "grid_auto_columns": null,
            "grid_auto_flow": null,
            "grid_auto_rows": null,
            "grid_column": null,
            "grid_gap": null,
            "grid_row": null,
            "grid_template_areas": null,
            "grid_template_columns": null,
            "grid_template_rows": null,
            "height": null,
            "justify_content": null,
            "justify_items": null,
            "left": null,
            "margin": null,
            "max_height": null,
            "max_width": null,
            "min_height": null,
            "min_width": null,
            "object_fit": null,
            "object_position": null,
            "order": null,
            "overflow": null,
            "overflow_x": null,
            "overflow_y": null,
            "padding": null,
            "right": null,
            "top": null,
            "visibility": null,
            "width": null
          }
        },
        "fc2553d27dfd4cd5b66fb3b4d986e6a7": {
          "model_module": "@jupyter-widgets/controls",
          "model_name": "DescriptionStyleModel",
          "model_module_version": "1.5.0",
          "state": {
            "_model_module": "@jupyter-widgets/controls",
            "_model_module_version": "1.5.0",
            "_model_name": "DescriptionStyleModel",
            "_view_count": null,
            "_view_module": "@jupyter-widgets/base",
            "_view_module_version": "1.2.0",
            "_view_name": "StyleView",
            "description_width": ""
          }
        },
        "db91716e7989460591f31e7400255216": {
          "model_module": "@jupyter-widgets/base",
          "model_name": "LayoutModel",
          "model_module_version": "1.2.0",
          "state": {
            "_model_module": "@jupyter-widgets/base",
            "_model_module_version": "1.2.0",
            "_model_name": "LayoutModel",
            "_view_count": null,
            "_view_module": "@jupyter-widgets/base",
            "_view_module_version": "1.2.0",
            "_view_name": "LayoutView",
            "align_content": null,
            "align_items": null,
            "align_self": null,
            "border": null,
            "bottom": null,
            "display": null,
            "flex": null,
            "flex_flow": null,
            "grid_area": null,
            "grid_auto_columns": null,
            "grid_auto_flow": null,
            "grid_auto_rows": null,
            "grid_column": null,
            "grid_gap": null,
            "grid_row": null,
            "grid_template_areas": null,
            "grid_template_columns": null,
            "grid_template_rows": null,
            "height": null,
            "justify_content": null,
            "justify_items": null,
            "left": null,
            "margin": null,
            "max_height": null,
            "max_width": null,
            "min_height": null,
            "min_width": null,
            "object_fit": null,
            "object_position": null,
            "order": null,
            "overflow": null,
            "overflow_x": null,
            "overflow_y": null,
            "padding": null,
            "right": null,
            "top": null,
            "visibility": null,
            "width": null
          }
        },
        "942eb81d53424bffaa19e9493b0fcb84": {
          "model_module": "@jupyter-widgets/controls",
          "model_name": "ProgressStyleModel",
          "model_module_version": "1.5.0",
          "state": {
            "_model_module": "@jupyter-widgets/controls",
            "_model_module_version": "1.5.0",
            "_model_name": "ProgressStyleModel",
            "_view_count": null,
            "_view_module": "@jupyter-widgets/base",
            "_view_module_version": "1.2.0",
            "_view_name": "StyleView",
            "bar_color": null,
            "description_width": ""
          }
        },
        "85fe709586254c9faf6f676e3a8d9980": {
          "model_module": "@jupyter-widgets/base",
          "model_name": "LayoutModel",
          "model_module_version": "1.2.0",
          "state": {
            "_model_module": "@jupyter-widgets/base",
            "_model_module_version": "1.2.0",
            "_model_name": "LayoutModel",
            "_view_count": null,
            "_view_module": "@jupyter-widgets/base",
            "_view_module_version": "1.2.0",
            "_view_name": "LayoutView",
            "align_content": null,
            "align_items": null,
            "align_self": null,
            "border": null,
            "bottom": null,
            "display": null,
            "flex": null,
            "flex_flow": null,
            "grid_area": null,
            "grid_auto_columns": null,
            "grid_auto_flow": null,
            "grid_auto_rows": null,
            "grid_column": null,
            "grid_gap": null,
            "grid_row": null,
            "grid_template_areas": null,
            "grid_template_columns": null,
            "grid_template_rows": null,
            "height": null,
            "justify_content": null,
            "justify_items": null,
            "left": null,
            "margin": null,
            "max_height": null,
            "max_width": null,
            "min_height": null,
            "min_width": null,
            "object_fit": null,
            "object_position": null,
            "order": null,
            "overflow": null,
            "overflow_x": null,
            "overflow_y": null,
            "padding": null,
            "right": null,
            "top": null,
            "visibility": null,
            "width": null
          }
        },
        "6c0b5a9ba85f4c85b8ff35fc7a2b8d8b": {
          "model_module": "@jupyter-widgets/controls",
          "model_name": "DescriptionStyleModel",
          "model_module_version": "1.5.0",
          "state": {
            "_model_module": "@jupyter-widgets/controls",
            "_model_module_version": "1.5.0",
            "_model_name": "DescriptionStyleModel",
            "_view_count": null,
            "_view_module": "@jupyter-widgets/base",
            "_view_module_version": "1.2.0",
            "_view_name": "StyleView",
            "description_width": ""
          }
        }
      }
    }
  },
  "cells": [
    {
      "cell_type": "markdown",
      "source": [
        "#Python version: 3.11.6"
      ],
      "metadata": {
        "id": "eGCxOko_SEsA"
      }
    },
    {
      "cell_type": "markdown",
      "source": [
        "I imported the required libraries.I set the device variable to \"cuda\" if a GPU is available; otherwise, I sets it to \"cpu\".\n",
        "\n",
        "- I loaded the CoNLL 2003 dataset, and to understand the distribution of words in the training data (dataset_train['tokens']), I counted the frequency of each word. Afterward, I created a filtered dictionary called word_freq, containing only those words with a frequency of 3 or more.\n",
        "- I generated a word-to-index mapping (word2idx). Each word was assigned a unique index, starting from 2. Additionally, I added special tokens, namely '[PAD]' and '[UNK]', to the mapping with indices 0 and 1, respectively.\n",
        "- I renamed the 'ner_tags' column to 'labels' in each split of the CoNLL 2003 dataset. This adjustment aligns the dataset with the naming convention commonly used in natural language processing tasks.\n",
        "- For the training split, I implemented a function called get_padded_input_ids_and_labels_train. This function takes a DataFrame as input and processes the 'tokens' and 'labels' columns. It converts the words in 'tokens' to their corresponding indices using the word2idx mapping, creating a tensor for each sample. The input tensors are then padded to the maximum sequence length with zeros, and the labels are similarly processed, ensuring consistent lengths by padding with the label '9'. The resulting padded input IDs and labels are organized into a TensorDataset, and a DataLoader is created for batch processing during training.\n",
        "- To accommodate the testing and validation splits, I designed a more general function named get_padded_input_ids_and_labels, which accepts a precomputed maximum sequence length as an argument. This function follows a similar process, converting words to indices, padding the input IDs and labels, and creating a DataLoader for batched processing. The dimensions of the padded input IDs and labels are printed for verification.\n",
        "- I designed a Bidirectional Long Short-Term Memory (BiLSTM) model for natural language processing. The architecture includes an Embedding Layer (embedding_dim=100, vocab_size determined dynamically), a BiLSTM Layer (hidden_dim=256, num_layers=1), a Dropout Layer (dropout=0.33), a Linear Layer (output_dim=128, ELU activation), and a Classifier Layer (num_labels=9). Hyperparameters include num_epochs=20 and initial_lr=0.01. I used AdamW optimizer and linear scheduler with a step size of 5. This setup balances complexity and efficiency for effective sequence processing and classification.\n",
        "- In each epoch, I loop through the training dataset, clear the GPU cache, and iterate over batches. Within each batch, I perform a forward pass, compute the loss using CrossEntropyLoss, and execute backpropagation to update the model's parameters with the optimizer. The learning rate is adjusted at the start of each epoch using a scheduler. I print the loss at the end of each epoch for monitoring. Clearing the GPU cache helps manage memory.\n",
        "- In the remove_padding function, I'm creating a list of unpadded predictions by truncating each sequence to the length of its corresponding unpadded label. This ensures that padding doesn't affect the evaluation metrics.\n",
        "- The evaluate_model function evaluates the model on a dataset. I set the model to evaluation mode, make predictions on the padded input tokens, and convert the predictions and labels to human-readable tag sequences. Then, I use these sequences to calculate precision, recall, and F1-score using the evaluate function.\n",
        "- These functions are crucial for assessing the performance of a Named Entity Recognition model, particularly when dealing with padded input sequences.\n",
        "\n",
        "\n",
        "\n",
        "\n",
        "\n",
        "\n"
      ],
      "metadata": {
        "id": "10M9yXWWj2r1"
      }
    },
    {
      "cell_type": "markdown",
      "source": [
        "###Task 2\n",
        "Task 2 has similar archiechture and dataset as Task1 with minor modifications\n",
        "- I created a word-to-index mapping (glove_word2idx) for GloVe embeddings, initializing it with special tokens '[PAD]' and '[UNK]'. I then loaded GloVe embeddings from the 'glove.6B.100d.txt' file, extracting words and their corresponding embeddings. I assigned indices to words, including the special tokens, and built a vocabulary list and an embeddings list. To integrate these embeddings into PyTorch, I converted the lists to NumPy arrays (glove_vocab_npa and glove_embeddings_npa). I added embeddings for '[PAD]' and '[UNK]' at the beginning and calculated a zero vector for '[PAD]' and the mean vector for '[UNK]'. Finally, I created a PyTorch embedding layer (my_embedding_layer) using the GloVe embeddings, ensuring it's frozen to retain pre-trained weights and set a padding index. This layer can be seamlessly incorporated into a neural network for natural language processing tasks.\n",
        "- To make my Task 2 predictions case sensitive, I implemented a function find_additional_features that takes a dataset (data) and the maximum sequence length (max_sequence_length). For each sequence in the dataset, I extracted additional features for each token, including whether it's title-cased, upper-cased, or lower-cased. I created a list of these features for each sequence, ensuring it matches the maximum sequence length by appending zeros as needed. Finally, I converted the list into a PyTorch tensor (torch.tensor(features_data)) for further use in my NLP model.\n",
        "- I extended my BiLSTM model to incorporate additional features by concatenating them with the word embeddings. These features include whether a token is title-cased, upper-cased, or lower-cased. I utilized a dedicated embedding layer (my_embedding_layer) trained on pre-trained GloVe embeddings. During the forward pass, I combined the input embeddings with the additional features and passed them through a bidirectional LSTM layer. The resulting sequence was then processed through a linear layer, followed by ELU activation, and finally, a classifier layer to obtain logits for each label. This enhancement allows the model to capture more nuanced information beyond word embeddings alone."
      ],
      "metadata": {
        "id": "x1QezVtqTJjV"
      }
    },
    {
      "cell_type": "code",
      "source": [
        "import warnings\n",
        "warnings.filterwarnings('ignore')"
      ],
      "metadata": {
        "id": "scUgFEmfPT1u"
      },
      "execution_count": 2,
      "outputs": []
    },
    {
      "cell_type": "code",
      "source": [
        "# import os\n",
        "# colab_directory = \"/content/gdrive/MyDrive/NLP/Assignments/HW4\"\n",
        "# os.chdir(colab_directory)"
      ],
      "metadata": {
        "id": "q6d1rReBPzRb"
      },
      "execution_count": 3,
      "outputs": []
    },
    {
      "cell_type": "code",
      "source": [
        "!pip install torch\n",
        "!pip install datasets"
      ],
      "metadata": {
        "id": "abYbSwzsnpkg"
      },
      "execution_count": null,
      "outputs": []
    },
    {
      "cell_type": "code",
      "source": [
        "!wget https://raw.githubusercontent.com/sighsmile/conlleval/master/conlleval.py"
      ],
      "metadata": {
        "id": "8OhhGS5BEWc5"
      },
      "execution_count": null,
      "outputs": []
    },
    {
      "cell_type": "code",
      "source": [
        "import datasets\n",
        "import torch\n",
        "import torch.nn as nn\n",
        "import torch.optim as optim\n",
        "from torch.optim.lr_scheduler import StepLR\n",
        "from torch.utils.data import DataLoader\n",
        "from torch.nn.utils.rnn import pad_sequence\n",
        "\n",
        "from conlleval import evaluate\n",
        "from collections import Counter\n",
        "import itertools"
      ],
      "metadata": {
        "id": "h9vmGqim_1Lb"
      },
      "execution_count": 5,
      "outputs": []
    },
    {
      "cell_type": "code",
      "source": [
        "# Set device\n",
        "device = torch.device(\"cuda\" if torch.cuda.is_available() else \"cpu\")"
      ],
      "metadata": {
        "id": "Rkv3oObalNCS"
      },
      "execution_count": 6,
      "outputs": []
    },
    {
      "cell_type": "markdown",
      "source": [
        "#creating dataset to be trained in batch"
      ],
      "metadata": {
        "id": "gby8lrrBm2GS"
      }
    },
    {
      "cell_type": "code",
      "execution_count": 7,
      "metadata": {
        "id": "Oorm1Oz3mOys",
        "colab": {
          "base_uri": "https://localhost:8080/",
          "height": 241,
          "referenced_widgets": [
            "ae4e83bf44b34e44a8e5eabff21ea391",
            "5bd4b08a1372416cb72651804cd334c5",
            "00aab373637c41f2a9b1b0ec5ec815fb",
            "423a50b77e0b4bb6834a9e6f8333e4c9",
            "1291d1a9656b4aa29faf143b6f7b0ff1",
            "59f45765a27c4f8187dec3165f832007",
            "51c87294c2554c35a077c3acc6d0b010",
            "095a9f6bcf8e42b6869112a9f37230d9",
            "a8bdf95245cb46b5938d226e1162439e",
            "692731709adb48419f1f30c64e87d72d",
            "277a18e7e58e402ba927b13dccede7a8",
            "eeedcf8fb57c463faca25f7858dde710",
            "252ca0323e7141caab6126a2dc271b05",
            "9fa8cf5d22834545afe7e629b015168a",
            "25fe862b45164b31918a548b9777248e",
            "26fb148ca8cc4bab87fc5a20f8128007",
            "9aee135f5b5f4c04846f90bbecd4f871",
            "fabded751e5449bb9a380c70763441c8",
            "42d292eaa89443ff92e7938705aa858b",
            "a6ea722d62984128b61fe3d636d7f3be",
            "280bdf7dd07b489e8dfa9add5f6cb6c7",
            "150d59b60c5741e1acba7211e7f26d5b",
            "c2ff05f65e6941918acac59e906db817",
            "7b0e604581584417aa838984dad5974e",
            "785e58c6f67a4b83a285264f5eada2da",
            "7785b2632eb84e74b9337ad8848af7dc",
            "2732641e6467411d9e77457df4d7ba31",
            "30c274d20d2b4229b013bd215962f4de",
            "2f886a6b649f46df9915c3b8f161305d",
            "a3e950b2628f4378b0ffec6a76000538",
            "e6127766c0654260b9cc12a333428e24",
            "eeb745a2073f4b3d9e9ea16478a83129",
            "191a7d5d8efb47028bad38d2bfadafca",
            "27f56c325a724c8e9e4a1bf29ba2e587",
            "e09e14ff7e5e40a1af114cd762622af1",
            "f5c73e493ac14825b030cfbe2b031a99",
            "c7e8efe5607e497b95235bd7498999d2",
            "0652d7d14f4a401d8401dff627882c90",
            "926a3f9d31db4a2c8e78216f6b73b175",
            "0a61a9261d5843fb9278e4b0b3e12acd",
            "af50e35119cf45029cb1c5a9f74c01a1",
            "94fd439a5ef34c3ebc535dc5300b5b64",
            "1a5eec90cd33401a8655067ac51faa6c",
            "90bd29ef023f4a72a036d434e2cd2414",
            "931bab8e01844c2bba3b02a653fa237f",
            "4292a39801b0449eac9b9f28147f9f96",
            "5d23b3918a9a407d8f4530c61fee33b1",
            "c383cb04d9574c3cbbac941aa2633934",
            "99fa4ac28312468797f1f29ed468d815",
            "1178849f8e8346019e519aa8117c40db",
            "596aa60593ce4fa68f534b80ca6b8201",
            "37a2d0a8b76d4ae496116c3ebbdc495d",
            "dc74170f12b94a6784da0cf275127ccf",
            "17303ccbf83d450e8cc11e94982cb5e1",
            "6ad03edd51794645b39e25a511ff2795",
            "1013cdc8b4414a1db69abc606676ce56",
            "a5d4da62458542c7b010500f8987c9e6",
            "501e52455e59461aa1ec127422914753",
            "126a16c301dd426184d33a7d75666aeb",
            "53583f8befa34038b496026e39cdc94c",
            "e8850b20b3734f788182a9e9edba84f2",
            "9cf237d6a99042d9a22d78df56fc3f27",
            "57063518803f4e00afaba181bb41c3ce",
            "c8e0ae1f09524f70bd742b279156bbad",
            "aeca345de0bb4676a0278b04901d45f6",
            "12d75066d97d447693220fe06e050601",
            "4b026c0145d0482ab961a85d5e77950a",
            "aded8f2e20184f4580098c474f6d4eca",
            "46a7eaf1f1024c558290ecc0d3e1acab",
            "b895e04a4db94a1e9973f2127d8b0eed",
            "97b542dcee67449c92d64c109da12ab2",
            "6d1aaf7e26f144beab93f8b1cccaafa1",
            "fc2553d27dfd4cd5b66fb3b4d986e6a7",
            "db91716e7989460591f31e7400255216",
            "942eb81d53424bffaa19e9493b0fcb84",
            "85fe709586254c9faf6f676e3a8d9980",
            "6c0b5a9ba85f4c85b8ff35fc7a2b8d8b"
          ]
        },
        "outputId": "48ef8f80-3f3c-4c68-8a31-8e1c9d31c34e"
      },
      "outputs": [
        {
          "output_type": "display_data",
          "data": {
            "text/plain": [
              "Downloading builder script:   0%|          | 0.00/9.57k [00:00<?, ?B/s]"
            ],
            "application/vnd.jupyter.widget-view+json": {
              "version_major": 2,
              "version_minor": 0,
              "model_id": "ae4e83bf44b34e44a8e5eabff21ea391"
            }
          },
          "metadata": {}
        },
        {
          "output_type": "display_data",
          "data": {
            "text/plain": [
              "Downloading metadata:   0%|          | 0.00/3.73k [00:00<?, ?B/s]"
            ],
            "application/vnd.jupyter.widget-view+json": {
              "version_major": 2,
              "version_minor": 0,
              "model_id": "eeedcf8fb57c463faca25f7858dde710"
            }
          },
          "metadata": {}
        },
        {
          "output_type": "display_data",
          "data": {
            "text/plain": [
              "Downloading readme:   0%|          | 0.00/12.3k [00:00<?, ?B/s]"
            ],
            "application/vnd.jupyter.widget-view+json": {
              "version_major": 2,
              "version_minor": 0,
              "model_id": "c2ff05f65e6941918acac59e906db817"
            }
          },
          "metadata": {}
        },
        {
          "output_type": "display_data",
          "data": {
            "text/plain": [
              "Downloading data:   0%|          | 0.00/983k [00:00<?, ?B/s]"
            ],
            "application/vnd.jupyter.widget-view+json": {
              "version_major": 2,
              "version_minor": 0,
              "model_id": "27f56c325a724c8e9e4a1bf29ba2e587"
            }
          },
          "metadata": {}
        },
        {
          "output_type": "display_data",
          "data": {
            "text/plain": [
              "Generating train split:   0%|          | 0/14041 [00:00<?, ? examples/s]"
            ],
            "application/vnd.jupyter.widget-view+json": {
              "version_major": 2,
              "version_minor": 0,
              "model_id": "931bab8e01844c2bba3b02a653fa237f"
            }
          },
          "metadata": {}
        },
        {
          "output_type": "display_data",
          "data": {
            "text/plain": [
              "Generating validation split:   0%|          | 0/3250 [00:00<?, ? examples/s]"
            ],
            "application/vnd.jupyter.widget-view+json": {
              "version_major": 2,
              "version_minor": 0,
              "model_id": "1013cdc8b4414a1db69abc606676ce56"
            }
          },
          "metadata": {}
        },
        {
          "output_type": "display_data",
          "data": {
            "text/plain": [
              "Generating test split:   0%|          | 0/3453 [00:00<?, ? examples/s]"
            ],
            "application/vnd.jupyter.widget-view+json": {
              "version_major": 2,
              "version_minor": 0,
              "model_id": "4b026c0145d0482ab961a85d5e77950a"
            }
          },
          "metadata": {}
        }
      ],
      "source": [
        "dataset_train = datasets.load_dataset(\"conll2003\", split = 'train')\n",
        "dataset_test = datasets.load_dataset(\"conll2003\", split = 'test')\n",
        "dataset_dev = datasets.load_dataset(\"conll2003\", split = 'validation')"
      ]
    },
    {
      "cell_type": "code",
      "source": [
        "print(dataset_train)\n",
        "print(dataset_dev)\n",
        "print(dataset_test)"
      ],
      "metadata": {
        "colab": {
          "base_uri": "https://localhost:8080/"
        },
        "id": "Dj-oOFHmgw4o",
        "outputId": "278b2f4a-c509-40a6-d237-9a1de9a1ddb3"
      },
      "execution_count": 8,
      "outputs": [
        {
          "output_type": "stream",
          "name": "stdout",
          "text": [
            "Dataset({\n",
            "    features: ['id', 'tokens', 'pos_tags', 'chunk_tags', 'ner_tags'],\n",
            "    num_rows: 14041\n",
            "})\n",
            "Dataset({\n",
            "    features: ['id', 'tokens', 'pos_tags', 'chunk_tags', 'ner_tags'],\n",
            "    num_rows: 3250\n",
            "})\n",
            "Dataset({\n",
            "    features: ['id', 'tokens', 'pos_tags', 'chunk_tags', 'ner_tags'],\n",
            "    num_rows: 3453\n",
            "})\n"
          ]
        }
      ]
    },
    {
      "cell_type": "markdown",
      "source": [
        "#Vocab creation to get word id for each token on all samples"
      ],
      "metadata": {
        "id": "_GJFb1hqVcgW"
      }
    },
    {
      "cell_type": "code",
      "source": [
        "word_freq = (Counter(itertools.chain(*dataset_train['tokens'])))\n",
        "\n",
        "#word in tokens for each row in dataset becomes the key and value is the freq\n",
        "word_freq= {\n",
        "    word : freq\n",
        "    for word, freq in word_freq.items() if freq >= 3\n",
        "}\n",
        "\n",
        "word2idx = {\n",
        "    word: index\n",
        "    for index, word in enumerate(word_freq.keys(), start = 2)\n",
        "}\n",
        "\n",
        "word2idx['[PAD]'] = 0\n",
        "word2idx['[UNK]'] = 1"
      ],
      "metadata": {
        "id": "J_wjh1LlJHER"
      },
      "execution_count": 9,
      "outputs": []
    },
    {
      "cell_type": "code",
      "source": [
        "from torch.utils.data import TensorDataset, DataLoader"
      ],
      "metadata": {
        "id": "vQk732LLs4jF"
      },
      "execution_count": 10,
      "outputs": []
    },
    {
      "cell_type": "code",
      "source": [
        "# Rename 'ner_tags' to 'labels' in each split\n",
        "dataset_train = dataset_train.rename_column('ner_tags', 'labels')\n",
        "dataset_test = dataset_test.rename_column('ner_tags', 'labels')\n",
        "dataset_dev = dataset_dev.rename_column('ner_tags', 'labels')"
      ],
      "metadata": {
        "id": "ICYDusCYIKEV"
      },
      "execution_count": 11,
      "outputs": []
    },
    {
      "cell_type": "code",
      "source": [
        "def get_padded_input_ids_and_labels_train(df):\n",
        "  input_ids = [[word2idx.get(token, word2idx['[UNK]']) for token in sample] for sample in df['tokens']]\n",
        "  input_ids = [torch.tensor(input_ids_sample) for input_ids_sample in input_ids]\n",
        "  padded_input_ids = pad_sequence(input_ids, batch_first=True, padding_value=0)\n",
        "\n",
        "  max_seq_len = max(len(seq) for seq in input_ids)\n",
        "  label_tensors = [torch.tensor(seq + [9]*(max_seq_len-len(seq))) for seq in df['labels']]\n",
        "  padded_labels = pad_sequence(label_tensors, batch_first=True, padding_value=9)\n",
        "\n",
        "  data = TensorDataset(padded_input_ids, padded_labels)\n",
        "  batch_size = 32\n",
        "  data_loader = DataLoader(data, batch_size=batch_size, shuffle=True)\n",
        "  return data_loader, padded_input_ids, max_seq_len\n"
      ],
      "metadata": {
        "id": "HjxwERCao1oF"
      },
      "execution_count": 12,
      "outputs": []
    },
    {
      "cell_type": "code",
      "source": [
        "def get_padded_input_ids_and_labels(df, max_seq_len):\n",
        "  input_ids = [[word2idx.get(token, word2idx['[UNK]']) for token in sample] for sample in df['tokens']]\n",
        "  input_ids = [torch.tensor(input_ids_sample) for input_ids_sample in input_ids]\n",
        "  padded_input_ids = pad_sequence(input_ids, batch_first=True, padding_value=0)\n",
        "\n",
        "  label_tensors = [torch.tensor(seq + [9]*(max_seq_len-len(seq))) for seq in df['labels']]\n",
        "  padded_labels = pad_sequence(label_tensors, batch_first=True, padding_value=9)\n",
        "\n",
        "  print(padded_input_ids.shape, padded_labels.shape)\n",
        "  data = TensorDataset(padded_input_ids, padded_labels)\n",
        "  batch_size = 32\n",
        "  data_loader = DataLoader(data, batch_size=batch_size, shuffle=True)\n",
        "  return data_loader, padded_input_ids\n"
      ],
      "metadata": {
        "id": "sFnBb1kY1TvH"
      },
      "execution_count": 13,
      "outputs": []
    },
    {
      "cell_type": "code",
      "source": [
        "padded_dataset_train, train_input_ids, max_seq_len_train  = get_padded_input_ids_and_labels_train(dataset_train)"
      ],
      "metadata": {
        "id": "4R71lNJhIVKn"
      },
      "execution_count": 14,
      "outputs": []
    },
    {
      "cell_type": "code",
      "source": [
        "padded_dataset_dev, dev_input_ids  = get_padded_input_ids_and_labels(dataset_dev, max_seq_len_train)\n",
        "padded_dataset_test, test_input_ids  = get_padded_input_ids_and_labels(dataset_test, max_seq_len_train)"
      ],
      "metadata": {
        "colab": {
          "base_uri": "https://localhost:8080/"
        },
        "id": "7kou_vFb1c6n",
        "outputId": "10258ef8-27bf-4463-9130-2ffd4796bf3d"
      },
      "execution_count": 16,
      "outputs": [
        {
          "output_type": "stream",
          "name": "stdout",
          "text": [
            "torch.Size([3250, 109]) torch.Size([3250, 113])\n",
            "torch.Size([3453, 124]) torch.Size([3453, 124])\n"
          ]
        }
      ]
    },
    {
      "cell_type": "markdown",
      "source": [
        "#Task 1 Bi-directional LSTM"
      ],
      "metadata": {
        "id": "X_7AS8ZzkJS4"
      }
    },
    {
      "cell_type": "code",
      "source": [
        "\n",
        "#Embedding → BiLSTM → Linear → ELU → classifier\n",
        "class BiLSTM(nn.Module):\n",
        "  def __init__(self, vocab_size, embedding_dim, hidden_dim, output_dim, num_layers, dropout, num_labels):\n",
        "    super(BiLSTM, self).__init__()\n",
        "    self.embedding = nn.Embedding(vocab_size, embedding_dim, padding_idx=0)\n",
        "    self.lstm = nn.LSTM(embedding_dim, hidden_dim, num_layers=num_layers, bidirectional=True, batch_first=True)\n",
        "    self.dropout = nn.Dropout()\n",
        "    self.linear = nn.Linear(2*hidden_dim, output_dim)\n",
        "    self.elu = nn.ELU()\n",
        "    self.classifier = nn.Linear(output_dim, num_labels)\n",
        "\n",
        "  def forward(self, input):\n",
        "    embeddings = (self.embedding(input))\n",
        "    x, _ = self.lstm(embeddings)\n",
        "    x = self.dropout(x)\n",
        "    x = self.linear(x)\n",
        "    x = self.elu(x)\n",
        "    logits = self.classifier(x)\n",
        "    return logits\n",
        "\n",
        "\n"
      ],
      "metadata": {
        "id": "lifM38FakLp2"
      },
      "execution_count": 17,
      "outputs": []
    },
    {
      "cell_type": "code",
      "source": [
        "# Define hyperparameters\n",
        "embedding_dim = 100\n",
        "hidden_dim = 256\n",
        "output_dim = 128\n",
        "num_layers = 1\n",
        "dropout = 0.33\n",
        "vocab_size = len(word2idx) # Adjust based on your vocabulary size\n",
        "num_epochs = 20\n",
        "initial_lr = 0.01\n",
        "num_labels = 9"
      ],
      "metadata": {
        "id": "RjZAJPcp1lCq"
      },
      "execution_count": 18,
      "outputs": []
    },
    {
      "cell_type": "code",
      "source": [
        "model = BiLSTM(vocab_size, embedding_dim, hidden_dim, output_dim, num_layers, dropout, num_labels)\n",
        "model.to(device)\n",
        "\n",
        "criterion = nn.CrossEntropyLoss(ignore_index=9)\n",
        "optimizer = optim.AdamW(model.parameters(), lr=initial_lr)"
      ],
      "metadata": {
        "id": "tHAxdgqM2CE9"
      },
      "execution_count": 19,
      "outputs": []
    },
    {
      "cell_type": "code",
      "source": [
        "step_size = 5\n",
        "scheduler = StepLR(optimizer=optimizer, step_size=step_size, gamma = 0.1)"
      ],
      "metadata": {
        "id": "3sxgESWGEq28"
      },
      "execution_count": 20,
      "outputs": []
    },
    {
      "cell_type": "code",
      "source": [
        "#Set the model in training mode\n",
        "model.train()"
      ],
      "metadata": {
        "colab": {
          "base_uri": "https://localhost:8080/"
        },
        "id": "BbknC1I4c4_n",
        "outputId": "368d05a7-b419-4065-f003-43da8caab764"
      },
      "execution_count": 21,
      "outputs": [
        {
          "output_type": "execute_result",
          "data": {
            "text/plain": [
              "BiLSTM(\n",
              "  (embedding): Embedding(8128, 100, padding_idx=0)\n",
              "  (lstm): LSTM(100, 256, batch_first=True, bidirectional=True)\n",
              "  (dropout): Dropout(p=0.5, inplace=False)\n",
              "  (linear): Linear(in_features=512, out_features=128, bias=True)\n",
              "  (elu): ELU(alpha=1.0)\n",
              "  (classifier): Linear(in_features=128, out_features=9, bias=True)\n",
              ")"
            ]
          },
          "metadata": {},
          "execution_count": 21
        }
      ]
    },
    {
      "cell_type": "code",
      "source": [
        "for epoch in range(num_epochs):\n",
        "\n",
        "    torch.cuda.empty_cache()\n",
        "    for batch in padded_dataset_train:\n",
        "        optimizer.zero_grad()\n",
        "        # Extract input_ids and ner_tags from the batch\n",
        "        input_ids , labels = batch\n",
        "\n",
        "        input_ids = input_ids.to(device)\n",
        "        labels = labels.to(device)\n",
        "        # Forward pass\n",
        "        outputs = model(input_ids)\n",
        "        outputs = outputs.permute(0, 2, 1)\n",
        "        # Compute the loss\n",
        "        loss = criterion(outputs, labels)\n",
        "        # Backpropagation\n",
        "        loss.backward()\n",
        "        optimizer.step()\n",
        "\n",
        "    # Update the learning rate at the beginning of each epoch\n",
        "    scheduler.step()\n",
        "\n",
        "    # Optionally clear GPU cache at the end of each epoch to manage memory\n",
        "    print(f\"Epoch {epoch + 1}/{num_epochs}, Loss: {loss}\")\n",
        "    torch.cuda.empty_cache()"
      ],
      "metadata": {
        "colab": {
          "base_uri": "https://localhost:8080/"
        },
        "id": "t16qfqLk3mF1",
        "outputId": "97bbf2ed-f87d-4631-acfc-1a8913026f35"
      },
      "execution_count": 22,
      "outputs": [
        {
          "output_type": "stream",
          "name": "stdout",
          "text": [
            "Epoch 1/20, Loss: 0.12485282868146896\n",
            "Epoch 2/20, Loss: 0.09035669267177582\n",
            "Epoch 3/20, Loss: 0.08609665930271149\n",
            "Epoch 4/20, Loss: 0.07817414402961731\n",
            "Epoch 5/20, Loss: 0.07878076285123825\n",
            "Epoch 6/20, Loss: 0.025946995243430138\n",
            "Epoch 7/20, Loss: 0.025206446647644043\n",
            "Epoch 8/20, Loss: 0.012350094504654408\n",
            "Epoch 9/20, Loss: 0.021025974303483963\n",
            "Epoch 10/20, Loss: 0.009655218571424484\n",
            "Epoch 11/20, Loss: 0.019309507682919502\n",
            "Epoch 12/20, Loss: 0.0007442826754413545\n",
            "Epoch 13/20, Loss: 0.0038777277804911137\n",
            "Epoch 14/20, Loss: 0.023904113098978996\n",
            "Epoch 15/20, Loss: 0.002769579878076911\n",
            "Epoch 16/20, Loss: 0.020701922476291656\n",
            "Epoch 17/20, Loss: 0.012106637470424175\n",
            "Epoch 18/20, Loss: 0.03672022372484207\n",
            "Epoch 19/20, Loss: 0.00011164149327669293\n",
            "Epoch 20/20, Loss: 0.017551179975271225\n"
          ]
        }
      ]
    },
    {
      "cell_type": "code",
      "source": [
        "torch.save(model.state_dict(), 'bilstm1_state_dict.pt')"
      ],
      "metadata": {
        "id": "jgwfXn9YXcU9"
      },
      "execution_count": 23,
      "outputs": []
    },
    {
      "cell_type": "code",
      "source": [
        "def remove_padding(preds, unpadded_labels):\n",
        "    unpadded_preds = []\n",
        "    for i in range(len(unpadded_labels)):\n",
        "        unpadded_preds.append(preds[i][:len(unpadded_labels[i])])\n",
        "    unpadded_preds = [pred.tolist() for pred in unpadded_preds]\n",
        "\n",
        "    return unpadded_preds\n",
        "\n",
        "\n",
        "#input tokens are padded\n",
        "#dataset_dev\n",
        "def evaluate_model(model, padded_input_tokens, dataset):\n",
        "    model.eval()\n",
        "\n",
        "    with torch.no_grad():\n",
        "        padded_input_tokens = padded_input_tokens.to(device)\n",
        "        predictions = model(padded_input_tokens)\n",
        "        predictions = torch.argmax(predictions, dim=-1)\n",
        "\n",
        "    unpadded_preds = remove_padding(predictions, dataset['labels'])\n",
        "\n",
        "\n",
        "    idx2tag = {0: 'O', 1: 'B-PER', 2: 'I-PER', 3: 'B-ORG', 4: 'I-ORG', 5: 'B-LOC', 6: 'I-LOC', 7: 'B-MISC', 8: 'I-MISC'}\n",
        "    labels = [list(map(idx2tag.get, labels)) for labels in dataset['labels']]\n",
        "    preds_string = [list(map(idx2tag.get, labels)) for labels in unpadded_preds]\n",
        "\n",
        "    precision, recall, f1 = evaluate(itertools.chain(*labels), itertools.chain(*preds_string))\n",
        "\n",
        "    return precision, recall, f1"
      ],
      "metadata": {
        "id": "jBRRqzfW9tog"
      },
      "execution_count": 26,
      "outputs": []
    },
    {
      "cell_type": "code",
      "source": [
        "precision, recall, f1 = evaluate_model(model, dev_input_ids, dataset_dev)"
      ],
      "metadata": {
        "colab": {
          "base_uri": "https://localhost:8080/"
        },
        "id": "HvDDASa9BsT5",
        "outputId": "9dc8aeaa-bbb0-4523-c8f2-2b3dd56e930f"
      },
      "execution_count": 27,
      "outputs": [
        {
          "output_type": "stream",
          "name": "stdout",
          "text": [
            "processed 51362 tokens with 5942 phrases; found: 5780 phrases; correct: 4761.\n",
            "accuracy:  82.49%; (non-O)\n",
            "accuracy:  96.27%; precision:  82.37%; recall:  80.12%; FB1:  81.23\n",
            "              LOC: precision:  89.68%; recall:  86.12%; FB1:  87.86  1764\n",
            "             MISC: precision:  78.88%; recall:  76.57%; FB1:  77.71  895\n",
            "              ORG: precision:  73.85%; recall:  74.35%; FB1:  74.10  1350\n",
            "              PER: precision:  83.34%; recall:  80.13%; FB1:  81.70  1771\n",
            "Precision for vaolidation: 82.37%\n",
            "Recall: 80.12%\n",
            "F1-Score: 81.23%\n"
          ]
        }
      ]
    },
    {
      "cell_type": "markdown",
      "source": [
        "###What are the precision, recall, and F1 score on the validation data?\n",
        "Precision for validation data: 82.37%\n",
        "Recall for validation data: 80.12%\n",
        "F1-Score for validation data: 81.23%\n"
      ],
      "metadata": {
        "id": "zyhPJaPMkurA"
      }
    },
    {
      "cell_type": "markdown",
      "source": [
        "#Task 1 test dataset"
      ],
      "metadata": {
        "id": "09fQfhtCDSp4"
      }
    },
    {
      "cell_type": "code",
      "source": [
        "precision, recall, f1 = evaluate_model(model, test_input_ids, dataset_test)"
      ],
      "metadata": {
        "colab": {
          "base_uri": "https://localhost:8080/"
        },
        "id": "DOYjiutGDU1U",
        "outputId": "36c22ca3-a841-4dbb-cb86-96519277f7c9"
      },
      "execution_count": 28,
      "outputs": [
        {
          "output_type": "stream",
          "name": "stdout",
          "text": [
            "processed 46435 tokens with 5648 phrases; found: 5427 phrases; correct: 4027.\n",
            "accuracy:  75.54%; (non-O)\n",
            "accuracy:  94.21%; precision:  74.20%; recall:  71.30%; FB1:  72.72\n",
            "              LOC: precision:  83.29%; recall:  78.60%; FB1:  80.88  1574\n",
            "             MISC: precision:  64.05%; recall:  67.52%; FB1:  65.74  740\n",
            "              ORG: precision:  68.46%; recall:  67.55%; FB1:  68.00  1639\n",
            "              PER: precision:  75.98%; recall:  69.26%; FB1:  72.47  1474\n",
            "Precision for vaolidation: 74.20%\n",
            "Recall: 71.30%\n",
            "F1-Score: 72.72%\n"
          ]
        }
      ]
    },
    {
      "cell_type": "markdown",
      "source": [
        "###What are the precision, recall, and F1 score on the test data?\n",
        "Precision for test data: 74.20%\n",
        "Recall for test data: 71.30%\n",
        "F1-Score for test data: 72.72%"
      ],
      "metadata": {
        "id": "Q2ZceLOok9un"
      }
    },
    {
      "cell_type": "markdown",
      "source": [
        "#Task 2 with GloVe Embeddings"
      ],
      "metadata": {
        "id": "jQKFdrXfLo51"
      }
    },
    {
      "cell_type": "code",
      "source": [
        "glove_word2idx = {}\n",
        "glove_word2idx['[PAD]'] = 0\n",
        "glove_word2idx['[UNK]'] = 1\n",
        "\n",
        "glove_vocab, glove_embeddings = [], []\n",
        "with open('glove.6B.100d/glove.6B.100d.txt', 'rt') as f:\n",
        "  all_file_embeddings = f.read().strip().split('\\n')\n",
        "\n",
        "for i in range(len(all_file_embeddings)):\n",
        "  glove_word = all_file_embeddings[i].split(' ')[0] #tokenizing\n",
        "  glove_embed = [float(x) for x in all_file_embeddings[i].split(' ')[1:]] #read or store each embedding as a float\n",
        "  glove_word2idx[glove_word] = i+2\n",
        "  glove_vocab.append(glove_word)\n",
        "  glove_embeddings.append(glove_embed)\n",
        "\n",
        "import numpy as np\n",
        "glove_vocab_npa = np.array(glove_vocab)\n",
        "glove_embeddings_npa = np.array(glove_embeddings)\n",
        "\n",
        "#insert '<pad>' and '<unk>' tokens at start of vocab_npa.\n",
        "glove_vocab_npa = np.insert(glove_vocab_npa, 0, '[PAD]')\n",
        "glove_vocab_npa = np.insert(glove_vocab_npa, 1, '[UNK]')\n",
        "\n",
        "\n",
        "pad_emb_npa = np.zeros((1,glove_embeddings_npa.shape[1]))   #embedding for '<pad>' token.\n",
        "unk_emb_npa = np.mean(glove_embeddings_npa,axis=0,keepdims=True)    #embedding for '<unk>' token\n",
        "\n",
        "#insert embeddings for pad and unk tokens at top of embs_npa.\n",
        "glove_embeddings_npa = np.vstack((pad_emb_npa,unk_emb_npa,glove_embeddings_npa))\n",
        "\n",
        "my_embedding_layer = torch.nn.Embedding.from_pretrained(torch.from_numpy(glove_embeddings_npa).float(), freeze = True, padding_idx=0)"
      ],
      "metadata": {
        "id": "2rDtWtK3MH8I"
      },
      "execution_count": 17,
      "outputs": []
    },
    {
      "cell_type": "code",
      "source": [
        "max_seq_length_train_glove = max(len(sequence) for sequence in dataset_train['tokens'])\n",
        "max_seq_length_test_glove = max(len(sequence) for sequence in dataset_test['tokens'])\n",
        "max_seq_length_dev_glove = max(len(sequence) for sequence in dataset_dev['tokens'])"
      ],
      "metadata": {
        "id": "rCZl6ru5MyXo"
      },
      "execution_count": 18,
      "outputs": []
    },
    {
      "cell_type": "code",
      "source": [
        "def find_additional_features(data, max_sequence_length):\n",
        "    features_data = []\n",
        "    for sequence in data:\n",
        "        add_features = [[float(token.istitle()), float(token.isupper()), float(token.islower())] for token in sequence]\n",
        "        add_features += [[0.0, 0.0, 0.0]] * (max_sequence_length - len(add_features))\n",
        "        features_data.append(add_features)\n",
        "    return torch.tensor(features_data)"
      ],
      "metadata": {
        "id": "GCrDG3HsHYT4"
      },
      "execution_count": 19,
      "outputs": []
    },
    {
      "cell_type": "code",
      "source": [
        "addn_features = find_additional_features(dataset_train['tokens'],max_seq_length_train_glove)\n",
        "\n",
        "def get_padded_input_ids_and_labels_glove(df, add_feats, max_seq_len):\n",
        "  input_ids = [[glove_word2idx.get(token.lower(), glove_word2idx['[UNK]']) for token in sample] for sample in df['tokens']]\n",
        "  input_ids = [torch.tensor(input_ids_sample) for input_ids_sample in input_ids]\n",
        "  padded_input_ids = pad_sequence(input_ids, batch_first=True, padding_value=0)\n",
        "\n",
        "  label_tensors = [torch.tensor(seq + [9]*(max_seq_len-len(seq))) for seq in df['labels']]\n",
        "  padded_labels = pad_sequence(label_tensors, batch_first=True, padding_value=9)\n",
        "\n",
        "  #print(padded_input_ids.shape, padded_labels.shape)\n",
        "  data = TensorDataset(padded_input_ids, add_feats, padded_labels)\n",
        "  data_loader = DataLoader(data, batch_size=32, shuffle=True)\n",
        "  return data_loader, padded_input_ids"
      ],
      "metadata": {
        "id": "GMajVK3gai0E"
      },
      "execution_count": 20,
      "outputs": []
    },
    {
      "cell_type": "code",
      "source": [
        "train_data_loader_glove, train_data_padded_input_ids = get_padded_input_ids_and_labels_glove(dataset_train, addn_features, max_seq_length_train_glove)\n"
      ],
      "metadata": {
        "id": "8Mc5N07bH7lM"
      },
      "execution_count": 21,
      "outputs": []
    },
    {
      "cell_type": "markdown",
      "source": [
        "#BiLSTM_Glove"
      ],
      "metadata": {
        "id": "3-0XwJtWHlTi"
      }
    },
    {
      "cell_type": "code",
      "source": [
        "#Embedding → BiLSTM → Linear → ELU → classifier\n",
        "class BiLSTM_glove(nn.Module):\n",
        "  def __init__(self, embedding_dim, hidden_dim,\n",
        "               output_dim, num_layers, dropout, num_labels):\n",
        "    super(BiLSTM_glove, self).__init__()\n",
        "    self.embedding = my_embedding_layer\n",
        "    self.lstm = nn.LSTM(embedding_dim+3, hidden_dim, num_layers=num_layers, bidirectional=True, batch_first=True)\n",
        "    self.dropout = nn.Dropout(0.33)\n",
        "    self.linear = nn.Linear(2*hidden_dim, output_dim)\n",
        "    self.elu = nn.ELU()\n",
        "    self.classifier = nn.Linear(output_dim, num_labels)\n",
        "\n",
        "  def forward(self, input, add_features):\n",
        "    embeddings = (self.embedding(input))\n",
        "    add_features = add_features.to(embeddings.device)\n",
        "    embeddings_with_add_features = torch.cat((embeddings, add_features), dim= 2)\n",
        "    x, _ = self.lstm(embeddings_with_add_features)\n",
        "    x = self.dropout(x)\n",
        "    x = self.linear(x)\n",
        "    x = self.elu(x)\n",
        "    logits = self.classifier(x)\n",
        "    return logits"
      ],
      "metadata": {
        "id": "WZQg5JTfHz8h"
      },
      "execution_count": 22,
      "outputs": []
    },
    {
      "cell_type": "code",
      "source": [
        "# Define hyperparameters\n",
        "embedding_dim = 100\n",
        "hidden_dim = 256\n",
        "output_dim = 128\n",
        "num_layers = 1\n",
        "dropout = 0.33\n",
        "num_labels = 9\n",
        "num_epochs = 20\n",
        "initial_lr = 0.01"
      ],
      "metadata": {
        "id": "QXKzICvTIEhL"
      },
      "execution_count": 23,
      "outputs": []
    },
    {
      "cell_type": "code",
      "source": [
        "model_glove = BiLSTM_glove(embedding_dim, hidden_dim, output_dim, num_layers, dropout, num_labels)\n",
        "model_glove.to(device)\n",
        "\n",
        "criterion_glove = nn.CrossEntropyLoss(ignore_index = 9)\n",
        "optimizer_glove = optim.AdamW(model_glove.parameters(), lr=initial_lr)"
      ],
      "metadata": {
        "id": "MNRTu313IEhN"
      },
      "execution_count": 25,
      "outputs": []
    },
    {
      "cell_type": "code",
      "source": [
        "step_size_glove = 5\n",
        "scheduler_glove = StepLR(optimizer=optimizer_glove, step_size=step_size_glove, gamma = 0.1)"
      ],
      "metadata": {
        "id": "7xFg1DcgIEhN"
      },
      "execution_count": 27,
      "outputs": []
    },
    {
      "cell_type": "code",
      "source": [
        "# Set the model in training mode\n",
        "model_glove.train()\n",
        "\n",
        "for epoch in range(num_epochs):\n",
        "    torch.cuda.empty_cache()\n",
        "\n",
        "    for batch in train_data_loader_glove:\n",
        "        optimizer_glove.zero_grad()\n",
        "        # Extract input_ids and ner_tags from the batch\n",
        "        input_ids, add_features, labels = batch\n",
        "\n",
        "\n",
        "        input_ids = input_ids.to(device)\n",
        "        add_features = add_features.to(device)\n",
        "        labels = labels.to(device)\n",
        "        # Forward pass\n",
        "        outputs = model_glove(input_ids, add_features)\n",
        "        outputs = outputs.permute(0,2,1)\n",
        "        # Compute the loss\n",
        "        loss = criterion_glove(outputs, labels)\n",
        "        # Backpropagation\n",
        "        loss.backward()\n",
        "        optimizer_glove.step()\n",
        "\n",
        "    # Update the learning rate at the beginning of each epoch\n",
        "    scheduler_glove.step()\n",
        "\n",
        "    # Optionally clear GPU cache at the end of each epoch to manage memory\n",
        "    print(f\"epoch {epoch+1}/{num_epochs}: loss is {loss}\")\n",
        "    torch.cuda.empty_cache()"
      ],
      "metadata": {
        "id": "8ueDh-A4IEhO",
        "colab": {
          "base_uri": "https://localhost:8080/"
        },
        "outputId": "093b9c10-251a-41d6-8b53-3556fbf33001"
      },
      "execution_count": 28,
      "outputs": [
        {
          "output_type": "stream",
          "name": "stdout",
          "text": [
            "epoch 1/20: loss is 0.03337996453046799\n",
            "epoch 2/20: loss is 0.12078648060560226\n",
            "epoch 3/20: loss is 0.08091679215431213\n",
            "epoch 4/20: loss is 0.013401861302554607\n",
            "epoch 5/20: loss is 0.050898414105176926\n",
            "epoch 6/20: loss is 0.05137806758284569\n",
            "epoch 7/20: loss is 0.00881861336529255\n",
            "epoch 8/20: loss is 0.013339130207896233\n",
            "epoch 9/20: loss is 0.01268848218023777\n",
            "epoch 10/20: loss is 0.00479291332885623\n",
            "epoch 11/20: loss is 0.032377131283283234\n",
            "epoch 12/20: loss is 0.0015617531025782228\n",
            "epoch 13/20: loss is 0.0008879965753294528\n",
            "epoch 14/20: loss is 0.0006026356131769717\n",
            "epoch 15/20: loss is 0.004186670761555433\n",
            "epoch 16/20: loss is 0.0019996350165456533\n",
            "epoch 17/20: loss is 0.00022307844483293593\n",
            "epoch 18/20: loss is 0.0021445825695991516\n",
            "epoch 19/20: loss is 0.0010260352864861488\n",
            "epoch 20/20: loss is 0.0008403216488659382\n"
          ]
        }
      ]
    },
    {
      "cell_type": "code",
      "source": [
        "torch.save(model_glove.state_dict(), 'bilstm2_state_dict.pt')"
      ],
      "metadata": {
        "id": "XQBRFeNrZh4h"
      },
      "execution_count": 37,
      "outputs": []
    },
    {
      "cell_type": "markdown",
      "source": [
        "#Task 2 Validation dataset"
      ],
      "metadata": {
        "id": "LYQFrJ72i3y_"
      }
    },
    {
      "cell_type": "code",
      "source": [
        "dev_addn_features = find_additional_features(dataset_dev['tokens'], max_seq_length_dev_glove)\n",
        "test_addn_features = find_additional_features(dataset_test['tokens'], max_seq_length_test_glove)"
      ],
      "metadata": {
        "id": "6AXVrGSjI2La"
      },
      "execution_count": 29,
      "outputs": []
    },
    {
      "cell_type": "code",
      "source": [
        "dev_data_loader_glove, dev_input_ids_glove = get_padded_input_ids_and_labels_glove(dataset_dev, dev_addn_features, max_seq_length_dev_glove)\n",
        "test_data_loader_glove, test_input_ids_glove = get_padded_input_ids_and_labels_glove(dataset_test, test_addn_features, max_seq_length_test_glove)"
      ],
      "metadata": {
        "id": "URQxIWMQi8Ra"
      },
      "execution_count": 34,
      "outputs": []
    },
    {
      "cell_type": "code",
      "source": [
        "def remove_padding(preds, unpadded_labels):\n",
        "    unpadded_preds = []\n",
        "    for i in range(len(unpadded_labels)):\n",
        "        unpadded_preds.append(preds[i][:len(unpadded_labels[i])])\n",
        "\n",
        "    unpadded_preds = [pred.tolist() for pred in unpadded_preds]\n",
        "\n",
        "    return unpadded_preds\n",
        "\n",
        "\n",
        "#input tokens are padded\n",
        "#dataset_dev\n",
        "def evaluate_model_glove(model, padded_input_tokens, dataset, add_features):\n",
        "    model.eval()\n",
        "\n",
        "    with torch.no_grad():\n",
        "        padded_input_tokens = padded_input_tokens.to(device)\n",
        "        predictions = model(padded_input_tokens, add_features)\n",
        "        predictions = torch.argmax(predictions, dim=-1)\n",
        "\n",
        "    unpadded_preds = remove_padding(predictions, dataset['labels'])\n",
        "\n",
        "\n",
        "    idx2tag = {0: 'O', 1: 'B-PER', 2: 'I-PER', 3: 'B-ORG', 4: 'I-ORG', 5: 'B-LOC', 6: 'I-LOC', 7: 'B-MISC', 8: 'I-MISC'}\n",
        "    labels = [list(map(idx2tag.get, labels)) for labels in dataset['labels']]\n",
        "    preds_string = [list(map(idx2tag.get, labels)) for labels in unpadded_preds]\n",
        "\n",
        "    precision, recall, f1 = evaluate(itertools.chain(*labels), itertools.chain(*preds_string))\n",
        "\n",
        "    return precision, recall, f1"
      ],
      "metadata": {
        "id": "27TI3k9HJQgP"
      },
      "execution_count": 31,
      "outputs": []
    },
    {
      "cell_type": "code",
      "source": [
        "precision, recall, f1 = evaluate_model_glove(model_glove, dev_input_ids_glove, dataset_dev, dev_addn_features)"
      ],
      "metadata": {
        "colab": {
          "base_uri": "https://localhost:8080/"
        },
        "id": "DoCUh2VnJdwl",
        "outputId": "c76ca7c3-1979-41be-b7d0-1cc871926b19"
      },
      "execution_count": 32,
      "outputs": [
        {
          "output_type": "stream",
          "name": "stdout",
          "text": [
            "processed 51362 tokens with 5942 phrases; found: 6037 phrases; correct: 5552.\n",
            "accuracy:  93.70%; (non-O)\n",
            "accuracy:  98.76%; precision:  91.97%; recall:  93.44%; FB1:  92.70\n",
            "              LOC: precision:  95.21%; recall:  96.35%; FB1:  95.78  1859\n",
            "             MISC: precision:  86.41%; recall:  86.88%; FB1:  86.64  927\n",
            "              ORG: precision:  87.87%; recall:  89.11%; FB1:  88.49  1360\n",
            "              PER: precision:  94.45%; recall:  96.96%; FB1:  95.69  1891\n",
            "Precision for vaolidation: 91.97%\n",
            "Recall: 93.44%\n",
            "F1-Score: 92.70%\n"
          ]
        }
      ]
    },
    {
      "cell_type": "markdown",
      "source": [
        "###What are the precision, recall, and F1 score on the validation data?\n",
        "Precision for validation data: 91.97%\n",
        "Recall for validation data: 93.44%\n",
        "F1-Score for validation data: 92.70%\n"
      ],
      "metadata": {
        "id": "MP-dc43rl8G_"
      }
    },
    {
      "cell_type": "code",
      "source": [],
      "metadata": {
        "id": "uGhuYEVUl7Wi"
      },
      "execution_count": null,
      "outputs": []
    },
    {
      "cell_type": "markdown",
      "source": [
        "#Task 2 Test Dataset"
      ],
      "metadata": {
        "id": "SCOVxbIBloBH"
      }
    },
    {
      "cell_type": "code",
      "source": [
        "precision, recall, f1 = evaluate_model_glove(model_glove, test_input_ids_glove, dataset_test, test_addn_features)"
      ],
      "metadata": {
        "colab": {
          "base_uri": "https://localhost:8080/"
        },
        "id": "sa2kLMdUWFay",
        "outputId": "f57db7b2-d873-47ff-8b81-090e0ffd9cd1"
      },
      "execution_count": 35,
      "outputs": [
        {
          "output_type": "stream",
          "name": "stdout",
          "text": [
            "processed 46435 tokens with 5648 phrases; found: 5813 phrases; correct: 5040.\n",
            "accuracy:  90.43%; (non-O)\n",
            "accuracy:  97.69%; precision:  86.70%; recall:  89.24%; FB1:  87.95\n",
            "              LOC: precision:  89.95%; recall:  92.81%; FB1:  91.35  1721\n",
            "             MISC: precision:  73.77%; recall:  80.91%; FB1:  77.17  770\n",
            "              ORG: precision:  82.89%; recall:  85.43%; FB1:  84.14  1712\n",
            "              PER: precision:  93.48%; recall:  93.07%; FB1:  93.28  1610\n",
            "Precision for vaolidation: 86.70%\n",
            "Recall: 89.24%\n",
            "F1-Score: 87.95%\n"
          ]
        }
      ]
    },
    {
      "cell_type": "markdown",
      "source": [
        "###What are the precision, recall, and F1 score on the test data?\n",
        "Precision for test dataset: 86.70%\n",
        "Recall for test dataset: 89.24%\n",
        "F1-Score for test dataset: 87.95%"
      ],
      "metadata": {
        "id": "j7_2qBDWmE2i"
      }
    },
    {
      "cell_type": "markdown",
      "source": [
        "#BiLSTM with Glove Embeddings outperforms the model without. Can you provide a rationale for this?\n",
        "I think that GloVe performs better owing to having access to huge and informative dataset to create its embeddings. These embeddings might have a rich information of positional semantics. GloVe embeddings encode semantic similarities between words, allowing the model to grasp subtle nuances and meaning in the language. This can be crucial for tasks where understanding context is essential. Also, GloVe embeddings often have lower-dimensional representations compared to training embeddings from scratch. This reduction in dimensionality can facilitate faster training and improved generalization, especially when working with limited data. Also, I feel that the pre-training of GloVe on extensive datasets enables the model to generalize well across various domains. It brings a broader understanding of language, making it adaptable to different contexts and tasks.\n"
      ],
      "metadata": {
        "id": "XYRZpq5mTCUp"
      }
    }
  ]
}